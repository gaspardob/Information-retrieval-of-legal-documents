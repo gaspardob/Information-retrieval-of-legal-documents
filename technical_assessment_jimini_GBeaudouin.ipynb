{
  "cells": [
    {
      "cell_type": "markdown",
      "metadata": {
        "id": "U6cxYCxImCbg"
      },
      "source": [
        "# Evaluation Technique Jimini\n",
        "\n",
        "## Présentation de Jimini\n",
        "\n",
        "Pour rappel, nous développons trois outils :\n",
        "- Un outil d'analyse factuelle de documents;\n",
        "- Un outil de recherche juridique;\n",
        "- Un outil de rédaction de documents juridiques, type contrats.\n",
        "\n",
        "## Information Retrieval\n",
        "\n",
        "### Objectif\n",
        "\n",
        "Les deux premiers outils nécessitent d'être capable de récupérer le contexte pertinent dans un ensemble de paragraphes donné - problématique connue sous le nom d'`information retrieval` ou de `document retrieval`. L'objectif de cette partie est donc de construire un moteur de recherche juridique. Nous disposons d'un corpus de documents juridiques, et nous souhaitons que l'utilisateur puisse poser une question en langage naturel, puis que le moteur de recherche lui renvoie les documents les plus pertinents.\n",
        "\n",
        "### Dataset\n",
        "\n",
        "Dans le cadre de ce notebook, nous nous intéressons à un jeu de données juridique francophone : [Belgian Statuatory Article Retrieval Dataset (BSARD)](https://huggingface.co/datasets/maastrichtlawtech/bsard), qui contient ~1000 questions posées par les utilisateurs d'une plateforme d'information juridique belge (Droits Quotidiens), ainsi que les articles pertinents pour y répondre. Ce jeu de données est issu de l'article [A Statutory Article Retrieval Dataset in French](https://arxiv.org/pdf/2108.11792.pdf) de l'Université de Maastricht.\n",
        "\n",
        "Ainsi que détaillé sur la page HuggingFace, le dataset se présente sous la forme de deux fichiers CSV contenant les questions d'entraînement `questions_fr_train.csv` et de test `questions_fr_test.csv`, et structurés comme suit :\n",
        " - `id` : un attribut int32 correspondant à un numéro d'identifiant unique pour la question.\n",
        " - `question` : un attribut de type chaîne de caractères correspondant à la question.\n",
        " - `category` : un attribut de type chaîne de caractères correspondant au sujet général de la question.\n",
        " - `subcategory` : un attribut de type chaîne de caractères correspondant au sous-sujet de la question.\n",
        " - `extra_description` : un attribut de type chaîne de caractères correspondant aux tags de catégorisation supplémentaires de la question.\n",
        " - `article_ids` : un attribut de type chaîne de caractères contenant les ID d'articles pertinents pour la question, séparés par des virgules.\n",
        "\n",
        "(À noter, ce dataset contient également un échantillon de ~113k questions synthétiques, ainsi que des exemples de *négatifs* durs, c'est-à-dire des questions avec des articles non-pertinents, dont vous pouvez librement vous servir pour entraîner votre modèle.)\n",
        "\n",
        "Et d'un fichier `articles.csv` :\n",
        " - `id` : un attribut int32 correspondant à un numéro d'identifiant unique pour l'article.\n",
        " - `article` : un attribut de type chaîne de caractères correspondant à l'intégralité de l'article.\n",
        " - `code` : un attribut de type chaîne de caractères correspondant au code de loi auquel appartient l'article.\n",
        " - `article_no` : un attribut de type chaîne de caractères correspondant au numéro de l'article dans le code.\n",
        " - `description` : un attribut de type chaîne de caractères correspondant aux titres concaténés de l'article.\n",
        " - `law_type` : un attribut de type chaîne de caractères dont la valeur est soit \"regional\" soit \"national\".\n",
        "\n",
        "### Évaluation\n",
        "\n",
        "Ainsi que dans l'[article](https://arxiv.org/pdf/2108.11792.pdf), nous évaluerons la performance du modèle en utilisant les métriques R@100, R@200, R@500, MAP@100 et MRR@100.\n",
        "\n",
        "Cependant, en conditions réelles, nous souhaitons que le moteur de recherche renvoie les documents les plus pertinents en premier. Nous utiliserons donc la métrique NDCG@100, qui prend en compte l'ordre des documents renvoyés, ainsi que les métriques précédentes, avec un $k$ plus petit (par exemple $k=1$, $k=5$ et $k=10$).\n",
        "\n",
        "#### Pyterrier\n",
        "\n",
        "On se sert ici du framework Pyterrier qui permet assez simplement de prototyper et évaluer un moteur de recherche, mais **libre au candidat d'utiliser l'approche qu'il préfère**.\n",
        "Dans le code suivant, on se sert des notations de `PyTerrier`, qui fonctionne avec les clés suivantes :\n",
        "- `qid` : `str` l'identifiant de la question\n",
        "- `docno` : `str` l'identifiant de l'article\n",
        "- `query` : `str` le texte de la question\n",
        "- `rel_docnos` : `List[str]` la liste des documents pertinents pour la question\n",
        "- `score`: `float` le score de pertinence du document pour la question\n",
        "- `label`: `int` la pertinence du document pour la question (1 si pertinent, 0 sinon)\n",
        "- `qrels` : `Dict[str, Dict[str, int]]` un dictionnaire contenant les documents pertinents pour chaque question\n"
      ]
    },
    {
      "cell_type": "code",
      "execution_count": 1,
      "metadata": {
        "id": "Lm2XztxumCbo",
        "colab": {
          "base_uri": "https://localhost:8080/"
        },
        "outputId": "f2e2ff6b-3849-465f-8cf0-78822dd0fd3b"
      },
      "outputs": [
        {
          "output_type": "stream",
          "name": "stdout",
          "text": [
            "\u001b[2K     \u001b[90m━━━━━━━━━━━━━━━━━━━━━━━━━━━━━━━━━━━━━━━━\u001b[0m \u001b[32m521.2/521.2 kB\u001b[0m \u001b[31m10.8 MB/s\u001b[0m eta \u001b[36m0:00:00\u001b[0m\n",
            "\u001b[2K     \u001b[90m━━━━━━━━━━━━━━━━━━━━━━━━━━━━━━━━━━━━━━━━\u001b[0m \u001b[32m115.3/115.3 kB\u001b[0m \u001b[31m12.5 MB/s\u001b[0m eta \u001b[36m0:00:00\u001b[0m\n",
            "\u001b[2K     \u001b[90m━━━━━━━━━━━━━━━━━━━━━━━━━━━━━━━━━━━━━━━━\u001b[0m \u001b[32m194.1/194.1 kB\u001b[0m \u001b[31m17.7 MB/s\u001b[0m eta \u001b[36m0:00:00\u001b[0m\n",
            "\u001b[2K     \u001b[90m━━━━━━━━━━━━━━━━━━━━━━━━━━━━━━━━━━━━━━━━\u001b[0m \u001b[32m134.8/134.8 kB\u001b[0m \u001b[31m10.7 MB/s\u001b[0m eta \u001b[36m0:00:00\u001b[0m\n",
            "\u001b[2K     \u001b[90m━━━━━━━━━━━━━━━━━━━━━━━━━━━━━━━━━━━━━━━━\u001b[0m \u001b[32m134.8/134.8 kB\u001b[0m \u001b[31m12.6 MB/s\u001b[0m eta \u001b[36m0:00:00\u001b[0m\n",
            "\u001b[2K     \u001b[90m━━━━━━━━━━━━━━━━━━━━━━━━━━━━━━━━━━━━━━━━\u001b[0m \u001b[32m12.3/12.3 MB\u001b[0m \u001b[31m73.4 MB/s\u001b[0m eta \u001b[36m0:00:00\u001b[0m\n",
            "\u001b[2K     \u001b[90m━━━━━━━━━━━━━━━━━━━━━━━━━━━━━━━━━━━━━━━━\u001b[0m \u001b[32m345.4/345.4 kB\u001b[0m \u001b[31m30.8 MB/s\u001b[0m eta \u001b[36m0:00:00\u001b[0m\n",
            "\u001b[?25h\u001b[31mERROR: pip's dependency resolver does not currently take into account all the packages that are installed. This behaviour is the source of the following dependency conflicts.\n",
            "google-colab 1.0.0 requires pandas==1.5.3, but you have pandas 2.1.3 which is incompatible.\u001b[0m\u001b[31m\n",
            "\u001b[2K     \u001b[90m━━━━━━━━━━━━━━━━━━━━━━━━━━━━━━━━━━━━━━━━\u001b[0m \u001b[32m107.6/107.6 kB\u001b[0m \u001b[31m1.6 MB/s\u001b[0m eta \u001b[36m0:00:00\u001b[0m\n",
            "\u001b[?25h  Preparing metadata (setup.py) ... \u001b[?25l\u001b[?25hdone\n",
            "  Preparing metadata (setup.py) ... \u001b[?25l\u001b[?25hdone\n",
            "\u001b[2K     \u001b[90m━━━━━━━━━━━━━━━━━━━━━━━━━━━━━━━━━━━━━━━━\u001b[0m \u001b[32m1.5/1.5 MB\u001b[0m \u001b[31m25.2 MB/s\u001b[0m eta \u001b[36m0:00:00\u001b[0m\n",
            "\u001b[2K     \u001b[90m━━━━━━━━━━━━━━━━━━━━━━━━━━━━━━━━━━━━━━━━\u001b[0m \u001b[32m69.6/69.6 kB\u001b[0m \u001b[31m2.4 MB/s\u001b[0m eta \u001b[36m0:00:00\u001b[0m\n",
            "\u001b[?25h  Preparing metadata (setup.py) ... \u001b[?25l\u001b[?25hdone\n",
            "\u001b[2K     \u001b[90m━━━━━━━━━━━━━━━━━━━━━━━━━━━━━━━━━━━━━━━━\u001b[0m \u001b[32m335.2/335.2 kB\u001b[0m \u001b[31m21.9 MB/s\u001b[0m eta \u001b[36m0:00:00\u001b[0m\n",
            "\u001b[2K     \u001b[90m━━━━━━━━━━━━━━━━━━━━━━━━━━━━━━━━━━━━━━━━\u001b[0m \u001b[32m48.8/48.8 kB\u001b[0m \u001b[31m5.0 MB/s\u001b[0m eta \u001b[36m0:00:00\u001b[0m\n",
            "\u001b[?25h  Preparing metadata (setup.py) ... \u001b[?25l\u001b[?25hdone\n",
            "\u001b[2K     \u001b[90m━━━━━━━━━━━━━━━━━━━━━━━━━━━━━━━━━━━━━━━━\u001b[0m \u001b[32m287.4/287.4 kB\u001b[0m \u001b[31m17.5 MB/s\u001b[0m eta \u001b[36m0:00:00\u001b[0m\n",
            "\u001b[2K     \u001b[90m━━━━━━━━━━━━━━━━━━━━━━━━━━━━━━━━━━━━━━━━\u001b[0m \u001b[32m45.1/45.1 kB\u001b[0m \u001b[31m4.4 MB/s\u001b[0m eta \u001b[36m0:00:00\u001b[0m\n",
            "\u001b[2K     \u001b[90m━━━━━━━━━━━━━━━━━━━━━━━━━━━━━━━━━━━━━━━━\u001b[0m \u001b[32m45.4/45.4 kB\u001b[0m \u001b[31m3.3 MB/s\u001b[0m eta \u001b[36m0:00:00\u001b[0m\n",
            "\u001b[2K     \u001b[90m━━━━━━━━━━━━━━━━━━━━━━━━━━━━━━━━━━━━━━━━\u001b[0m \u001b[32m1.3/1.3 MB\u001b[0m \u001b[31m40.4 MB/s\u001b[0m eta \u001b[36m0:00:00\u001b[0m\n",
            "\u001b[?25h  Preparing metadata (setup.py) ... \u001b[?25l\u001b[?25hdone\n",
            "  Installing build dependencies ... \u001b[?25l\u001b[?25hdone\n",
            "  Getting requirements to build wheel ... \u001b[?25l\u001b[?25hdone\n",
            "  Installing backend dependencies ... \u001b[?25l\u001b[?25hdone\n",
            "  Preparing metadata (pyproject.toml) ... \u001b[?25l\u001b[?25hdone\n",
            "\u001b[2K     \u001b[90m━━━━━━━━━━━━━━━━━━━━━━━━━━━━━━━━━━━━━━━━\u001b[0m \u001b[32m111.8/111.8 kB\u001b[0m \u001b[31m11.4 MB/s\u001b[0m eta \u001b[36m0:00:00\u001b[0m\n",
            "\u001b[2K     \u001b[90m━━━━━━━━━━━━━━━━━━━━━━━━━━━━━━━━━━━━━━━━\u001b[0m \u001b[32m379.9/379.9 kB\u001b[0m \u001b[31m16.7 MB/s\u001b[0m eta \u001b[36m0:00:00\u001b[0m\n",
            "\u001b[?25h  Preparing metadata (setup.py) ... \u001b[?25l\u001b[?25hdone\n",
            "  Preparing metadata (setup.py) ... \u001b[?25l\u001b[?25hdone\n",
            "  Building wheel for python-terrier (setup.py) ... \u001b[?25l\u001b[?25hdone\n",
            "  Building wheel for ir_measures (setup.py) ... \u001b[?25l\u001b[?25hdone\n",
            "  Building wheel for chest (setup.py) ... \u001b[?25l\u001b[?25hdone\n",
            "  Building wheel for wget (setup.py) ... \u001b[?25l\u001b[?25hdone\n",
            "  Building wheel for cwl-eval (setup.py) ... \u001b[?25l\u001b[?25hdone\n",
            "  Building wheel for warc3-wet-clueweb09 (setup.py) ... \u001b[?25l\u001b[?25hdone\n",
            "  Building wheel for zlib-state (pyproject.toml) ... \u001b[?25l\u001b[?25hdone\n",
            "  Building wheel for cbor (setup.py) ... \u001b[?25l\u001b[?25hdone\n"
          ]
        }
      ],
      "source": [
        "!pip install datasets==2.15.0 --quiet\n",
        "!pip install pandas==2.1.3 --quiet\n",
        "!pip install python-terrier==0.10.0 --quiet\n"
      ]
    },
    {
      "cell_type": "code",
      "execution_count": null,
      "metadata": {
        "id": "_eyTKa65mCbp"
      },
      "outputs": [],
      "source": [
        "# Retrieve the corpus of articles from the dataset\n",
        "!wget https://huggingface.co/datasets/maastrichtlawtech/bsard/resolve/main/articles.csv --quiet\n"
      ]
    },
    {
      "cell_type": "code",
      "execution_count": 2,
      "metadata": {
        "id": "y18F7D9smCbp",
        "colab": {
          "base_uri": "https://localhost:8080/"
        },
        "outputId": "339a6735-adec-4019-8078-6f9b8bf8f052"
      },
      "outputs": [
        {
          "output_type": "stream",
          "name": "stdout",
          "text": [
            "terrier-assemblies 5.8 jar-with-dependencies not found, downloading to /root/.pyterrier...\n",
            "Done\n",
            "terrier-python-helper 0.0.8 jar not found, downloading to /root/.pyterrier...\n",
            "Done\n"
          ]
        },
        {
          "output_type": "stream",
          "name": "stderr",
          "text": [
            "PyTerrier 0.10.0 has loaded Terrier 5.8 (built by craigm on 2023-11-01 18:05) and terrier-helper 0.0.8\n",
            "\n"
          ]
        }
      ],
      "source": [
        "import os\n",
        "import ast\n",
        "import shutil\n",
        "import pandas as pd\n",
        "from datasets import load_dataset\n",
        "import pyterrier as pt\n",
        "from pyterrier.measures import *\n",
        "import torch\n",
        "from tqdm import tqdm\n",
        "\n",
        "if not pt.started():\n",
        "    pt.init()\n"
      ]
    },
    {
      "cell_type": "code",
      "source": [
        "!pip install --upgrade datasets\n"
      ],
      "metadata": {
        "colab": {
          "base_uri": "https://localhost:8080/",
          "height": 813
        },
        "id": "7fW6rmErhQ8a",
        "outputId": "b6f3cc96-5ca8-498f-96a9-efc38b55c6fd"
      },
      "execution_count": null,
      "outputs": [
        {
          "output_type": "stream",
          "name": "stdout",
          "text": [
            "Requirement already satisfied: datasets in /usr/local/lib/python3.10/dist-packages (2.15.0)\n",
            "Collecting datasets\n",
            "  Downloading datasets-2.18.0-py3-none-any.whl (510 kB)\n",
            "\u001b[2K     \u001b[90m━━━━━━━━━━━━━━━━━━━━━━━━━━━━━━━━━━━━━━━━\u001b[0m \u001b[32m510.5/510.5 kB\u001b[0m \u001b[31m3.6 MB/s\u001b[0m eta \u001b[36m0:00:00\u001b[0m\n",
            "\u001b[?25hRequirement already satisfied: filelock in /usr/local/lib/python3.10/dist-packages (from datasets) (3.13.3)\n",
            "Requirement already satisfied: numpy>=1.17 in /usr/local/lib/python3.10/dist-packages (from datasets) (1.25.2)\n",
            "Requirement already satisfied: pyarrow>=12.0.0 in /usr/local/lib/python3.10/dist-packages (from datasets) (14.0.2)\n",
            "Requirement already satisfied: pyarrow-hotfix in /usr/local/lib/python3.10/dist-packages (from datasets) (0.6)\n",
            "Requirement already satisfied: dill<0.3.9,>=0.3.0 in /usr/local/lib/python3.10/dist-packages (from datasets) (0.3.7)\n",
            "Requirement already satisfied: pandas in /usr/local/lib/python3.10/dist-packages (from datasets) (2.1.3)\n",
            "Requirement already satisfied: requests>=2.19.0 in /usr/local/lib/python3.10/dist-packages (from datasets) (2.31.0)\n",
            "Requirement already satisfied: tqdm>=4.62.1 in /usr/local/lib/python3.10/dist-packages (from datasets) (4.66.2)\n",
            "Requirement already satisfied: xxhash in /usr/local/lib/python3.10/dist-packages (from datasets) (3.4.1)\n",
            "Requirement already satisfied: multiprocess in /usr/local/lib/python3.10/dist-packages (from datasets) (0.70.15)\n",
            "Requirement already satisfied: fsspec[http]<=2024.2.0,>=2023.1.0 in /usr/local/lib/python3.10/dist-packages (from datasets) (2023.6.0)\n",
            "Requirement already satisfied: aiohttp in /usr/local/lib/python3.10/dist-packages (from datasets) (3.9.3)\n",
            "Requirement already satisfied: huggingface-hub>=0.19.4 in /usr/local/lib/python3.10/dist-packages (from datasets) (0.20.3)\n",
            "Requirement already satisfied: packaging in /usr/local/lib/python3.10/dist-packages (from datasets) (24.0)\n",
            "Requirement already satisfied: pyyaml>=5.1 in /usr/local/lib/python3.10/dist-packages (from datasets) (6.0.1)\n",
            "Requirement already satisfied: aiosignal>=1.1.2 in /usr/local/lib/python3.10/dist-packages (from aiohttp->datasets) (1.3.1)\n",
            "Requirement already satisfied: attrs>=17.3.0 in /usr/local/lib/python3.10/dist-packages (from aiohttp->datasets) (23.2.0)\n",
            "Requirement already satisfied: frozenlist>=1.1.1 in /usr/local/lib/python3.10/dist-packages (from aiohttp->datasets) (1.4.1)\n",
            "Requirement already satisfied: multidict<7.0,>=4.5 in /usr/local/lib/python3.10/dist-packages (from aiohttp->datasets) (6.0.5)\n",
            "Requirement already satisfied: yarl<2.0,>=1.0 in /usr/local/lib/python3.10/dist-packages (from aiohttp->datasets) (1.9.4)\n",
            "Requirement already satisfied: async-timeout<5.0,>=4.0 in /usr/local/lib/python3.10/dist-packages (from aiohttp->datasets) (4.0.3)\n",
            "Requirement already satisfied: typing-extensions>=3.7.4.3 in /usr/local/lib/python3.10/dist-packages (from huggingface-hub>=0.19.4->datasets) (4.10.0)\n",
            "Requirement already satisfied: charset-normalizer<4,>=2 in /usr/local/lib/python3.10/dist-packages (from requests>=2.19.0->datasets) (3.3.2)\n",
            "Requirement already satisfied: idna<4,>=2.5 in /usr/local/lib/python3.10/dist-packages (from requests>=2.19.0->datasets) (3.6)\n",
            "Requirement already satisfied: urllib3<3,>=1.21.1 in /usr/local/lib/python3.10/dist-packages (from requests>=2.19.0->datasets) (2.0.7)\n",
            "Requirement already satisfied: certifi>=2017.4.17 in /usr/local/lib/python3.10/dist-packages (from requests>=2.19.0->datasets) (2024.2.2)\n",
            "Requirement already satisfied: python-dateutil>=2.8.2 in /usr/local/lib/python3.10/dist-packages (from pandas->datasets) (2.8.2)\n",
            "Requirement already satisfied: pytz>=2020.1 in /usr/local/lib/python3.10/dist-packages (from pandas->datasets) (2023.4)\n",
            "Requirement already satisfied: tzdata>=2022.1 in /usr/local/lib/python3.10/dist-packages (from pandas->datasets) (2024.1)\n",
            "Requirement already satisfied: six>=1.5 in /usr/local/lib/python3.10/dist-packages (from python-dateutil>=2.8.2->pandas->datasets) (1.16.0)\n",
            "Installing collected packages: datasets\n",
            "  Attempting uninstall: datasets\n",
            "    Found existing installation: datasets 2.15.0\n",
            "    Uninstalling datasets-2.15.0:\n",
            "      Successfully uninstalled datasets-2.15.0\n",
            "Successfully installed datasets-2.18.0\n"
          ]
        },
        {
          "output_type": "display_data",
          "data": {
            "application/vnd.colab-display-data+json": {
              "pip_warning": {
                "packages": [
                  "datasets"
                ]
              },
              "id": "37ddf1fd47c14563bd7f701c7b009c93"
            }
          },
          "metadata": {}
        }
      ]
    },
    {
      "cell_type": "code",
      "source": [
        "from datasets import load_dataset\n",
        "import pandas as pd\n",
        "\n",
        "train_file_path = 'questions_train.csv'\n",
        "test_file_path = 'questions_test.csv'\n",
        "articles_file_path='articles.csv'\n",
        "\n",
        "\n",
        "df_train = pd.read_csv(train_file_path)\n",
        "df_test = pd.read_csv(test_file_path)\n",
        "df_articles=pd.read_csv(articles_file_path)\n",
        "\n",
        "# Affichage des premières lignes pour vérifier\n",
        "print(\"Train DataFrame:\")\n",
        "print(df_train.head())\n",
        "\n",
        "print(\"\\nTest DataFrame:\")\n",
        "print(df_test.head())\n",
        "\n",
        "\n",
        "print(\"\\nArticles DataFrame:\")\n",
        "print(df_articles.head())\n",
        "\n"
      ],
      "metadata": {
        "colab": {
          "base_uri": "https://localhost:8080/"
        },
        "id": "svsJlYUzflgS",
        "outputId": "51c6acc1-410d-40c7-b8fb-9748cac45bf5"
      },
      "execution_count": 3,
      "outputs": [
        {
          "output_type": "stream",
          "name": "stdout",
          "text": [
            "Train DataFrame:\n",
            "     id  category                      subcategory  \\\n",
            "0  1102   Travail           Travail et parentalité   \n",
            "1    91    Argent                           Dettes   \n",
            "2   474   Famille             Situation de couples   \n",
            "3   836  Logement             Location en Wallonie   \n",
            "4  1079   Travail  Maladie - incapacité de travail   \n",
            "\n",
            "                                            question  \\\n",
            "0  Je suis travailleur salarié(e). Puis-je refuse...   \n",
            "1                  Peut-on saisir tous mes revenus ?   \n",
            "2  Je suis marié(e). Nous sommes mariés. Dois-je ...   \n",
            "3  Je mets un kot en location (bail de droit comm...   \n",
            "4  Suis-je payé pendant la procédure du trajet de...   \n",
            "\n",
            "                                   extra_description  \\\n",
            "0                               Pendant la grossesse   \n",
            "1  Procédures de récupération des dettes, Récupér...   \n",
            "2                                            Mariage   \n",
            "3  Mettre un logement en location (Wallonie), Doi...   \n",
            "4  Rupture du contrat de travail pour force majeu...   \n",
            "\n",
            "                                         article_ids  \n",
            "0  22225,22226,22227,22228,22229,22230,22231,2223...  \n",
            "1                                     5853,5854,5855  \n",
            "2                      1096,1097,1098,1108,1109,1110  \n",
            "3          12012,12030,12031,12032,12033,12034,12035  \n",
            "4  21114,21115,21116,21117,21118,21119,21120,2112...  \n",
            "\n",
            "Test DataFrame:\n",
            "     id            category              subcategory  \\\n",
            "0   775            Logement  Insalubrité en Wallonie   \n",
            "1  1053  Protection sociale   Grossesse et naissance   \n",
            "2    72              Argent                   Dettes   \n",
            "3   861            Logement     Location à Bruxelles   \n",
            "4   786            Logement     Location en Wallonie   \n",
            "\n",
            "                                            question  \\\n",
            "0  Quels sont les critères communaux d'insalubrité ?   \n",
            "1  A-t-on droit à l'allocation de naissance en ca...   \n",
            "2  Quels frais peut-on ajouter lors d'un recouvre...   \n",
            "3     Comment se déroule une expulsion à Bruxelles ?   \n",
            "4          Peut-on m'expulser en hiver en Wallonie ?   \n",
            "\n",
            "                                   extra_description  \\\n",
            "0                                                NaN   \n",
            "1  Allocations familiales et allocation de naissa...   \n",
            "2  Procédures de récupération des dettes, Récupér...   \n",
            "3  Bail de résidence principale (Bruxelles), Fin ...   \n",
            "4  Bail de résidence principale (Wallonie), Fin e...   \n",
            "\n",
            "                                article_ids  \n",
            "0                                     12024  \n",
            "1                                   947,948  \n",
            "2                            2041,2119,2138  \n",
            "3                  5562,5563,5564,5565,5566  \n",
            "4  5561,5562,5563,5564,5565,5566,5567,12124  \n",
            "\n",
            "Articles DataFrame:\n",
            "   id                                          reference  \\\n",
            "0   1  Art. 1.1.1, Code Bruxellois de l'Air, du Clima...   \n",
            "1   2  Art. 1.1.2, Code Bruxellois de l'Air, du Clima...   \n",
            "2   3  Art. 1.2.1, Code Bruxellois de l'Air, du Clima...   \n",
            "3   4  Art. 1.3.1, Code Bruxellois de l'Air, du Clima...   \n",
            "4   5  Art. 1.4.1, Code Bruxellois de l'Air, du Clima...   \n",
            "\n",
            "                                             article  law_type  \\\n",
            "0  Le présent Code règle une matière visée à l'ar...  regional   \n",
            "1  Le présent Code transpose en Région de Bruxell...  regional   \n",
            "2  Le présent Code poursuit les objectifs suivant...  regional   \n",
            "3  Au sens du présent Code, il faut entendre par ...  regional   \n",
            "4  Le plan régional Air-Climat-énergie, ci-après ...  regional   \n",
            "\n",
            "                                                code                   book  \\\n",
            "0  Code Bruxellois de l'Air, du Climat et de la M...  Dispositions communes   \n",
            "1  Code Bruxellois de l'Air, du Climat et de la M...  Dispositions communes   \n",
            "2  Code Bruxellois de l'Air, du Climat et de la M...  Dispositions communes   \n",
            "3  Code Bruxellois de l'Air, du Climat et de la M...  Dispositions communes   \n",
            "4  Code Bruxellois de l'Air, du Climat et de la M...  Dispositions communes   \n",
            "\n",
            "  part                               act                    chapter section  \\\n",
            "0  NaN                       Généralités                        NaN     NaN   \n",
            "1  NaN                       Généralités                        NaN     NaN   \n",
            "2  NaN                         Objectifs                        NaN     NaN   \n",
            "3  NaN                       Définitions                        NaN     NaN   \n",
            "4  NaN  Plan régional air-climat-énergie  Contenu et portée du plan     NaN   \n",
            "\n",
            "  subsection                                        description  \n",
            "0        NaN                 Dispositions communes, Généralités  \n",
            "1        NaN                 Dispositions communes, Généralités  \n",
            "2        NaN                   Dispositions communes, Objectifs  \n",
            "3        NaN                 Dispositions communes, Définitions  \n",
            "4        NaN  Dispositions communes, Plan régional air-clima...  \n"
          ]
        }
      ]
    },
    {
      "cell_type": "code",
      "source": [
        "df_negative=pd.read_json(\"negatives_bm25_negatives_train.json\")\n",
        "print(df_negative.shape)"
      ],
      "metadata": {
        "colab": {
          "base_uri": "https://localhost:8080/"
        },
        "id": "rLxVl83DHYES",
        "outputId": "2b325f20-473f-49e5-c729-a654c8e37823"
      },
      "execution_count": 4,
      "outputs": [
        {
          "output_type": "stream",
          "name": "stdout",
          "text": [
            "(10, 886)\n"
          ]
        }
      ]
    },
    {
      "cell_type": "code",
      "source": [
        "print(df_articles.shape)"
      ],
      "metadata": {
        "colab": {
          "base_uri": "https://localhost:8080/"
        },
        "id": "F6vaoc2xD6yE",
        "outputId": "bfff85ad-17a0-4201-e78f-3ab19d027c66"
      },
      "execution_count": 9,
      "outputs": [
        {
          "output_type": "stream",
          "name": "stdout",
          "text": [
            "(22633, 12)\n"
          ]
        }
      ]
    },
    {
      "cell_type": "code",
      "execution_count": 5,
      "metadata": {
        "id": "NtsNbidnmCbq"
      },
      "outputs": [],
      "source": [
        "# Ensure that the article IDs are strings, and rename the column to 'docno', because of PyTerrier's expectations\n",
        "df_articles['docno'] = df_articles['id'].astype(str)\n",
        "df_articles[\"article\"] = df_articles[\"article\"].str.replace(\"[^a-zA-Z0-9 À-ÿ]\", \" \", regex=True).str.strip().str.replace(\" +\", \" \", regex=True)\n",
        "\n",
        "def prepare_queries(df):\n",
        "    queries = pd.DataFrame({\n",
        "        'qid': df['id'].astype(str),\n",
        "        'query': df['question'].str.replace(\"[^a-zA-Z0-9 À-ÿ]\", \" \", regex=True).str.strip().str.replace(\" +\", \" \", regex=True),\n",
        "        'rel_docnos': df['article_ids'].apply(lambda x: list(ast.literal_eval(x)) if isinstance(x, str) and x.startswith('(') else [x])\n",
        "    })\n",
        "    return queries\n",
        "\n",
        "\n",
        "# Prepare the train and test query dataframes\n",
        "train_queries = prepare_queries(df_train)\n",
        "test_queries = prepare_queries(df_test)\n",
        "\n"
      ]
    },
    {
      "cell_type": "code",
      "source": [
        "print(test_queries.head())\n"
      ],
      "metadata": {
        "colab": {
          "base_uri": "https://localhost:8080/"
        },
        "id": "cNRQmA6vU2cb",
        "outputId": "65ae6a0c-3d14-4ad9-9f94-b3b9e2e52ea6"
      },
      "execution_count": 11,
      "outputs": [
        {
          "output_type": "stream",
          "name": "stdout",
          "text": [
            "    qid                                              query  \\\n",
            "0   775    Quels sont les critères communaux d insalubrité   \n",
            "1  1053  A t on droit à l allocation de naissance en ca...   \n",
            "2    72  Quels frais peut on ajouter lors d un recouvre...   \n",
            "3   861       Comment se déroule une expulsion à Bruxelles   \n",
            "4   786            Peut on m expulser en hiver en Wallonie   \n",
            "\n",
            "                                   rel_docnos  \n",
            "0                                     [12024]  \n",
            "1                                   [947,948]  \n",
            "2                            [2041,2119,2138]  \n",
            "3                  [5562,5563,5564,5565,5566]  \n",
            "4  [5561,5562,5563,5564,5565,5566,5567,12124]  \n"
          ]
        }
      ]
    },
    {
      "cell_type": "code",
      "source": [
        "qrels = pd.DataFrame([\n",
        "    {'qid': str(qid), 'docno': str(docno), 'label': 1}\n",
        "    for qid, docnos in test_queries[['qid', 'rel_docnos']].itertuples(index=False)\n",
        "    for docno in docnos\n",
        "])\n"
      ],
      "metadata": {
        "id": "7RJzLUT6T4Ca"
      },
      "execution_count": 6,
      "outputs": []
    },
    {
      "cell_type": "code",
      "source": [
        "print(qrels.head)"
      ],
      "metadata": {
        "colab": {
          "base_uri": "https://localhost:8080/"
        },
        "id": "fDaomfj4gaaM",
        "outputId": "2917b98e-4e63-4d20-eb5e-0212bd7decb3"
      },
      "execution_count": 13,
      "outputs": [
        {
          "output_type": "stream",
          "name": "stdout",
          "text": [
            "<bound method NDFrame.head of       qid                                     docno  label\n",
            "0     775                                     12024      1\n",
            "1    1053                                   947,948      1\n",
            "2      72                            2041,2119,2138      1\n",
            "3     861                  5562,5563,5564,5565,5566      1\n",
            "4     786  5561,5562,5563,5564,5565,5566,5567,12124      1\n",
            "..    ...                                       ...    ...\n",
            "217   524                            2328,2329,2330      1\n",
            "218    69                                      2127      1\n",
            "219   463                                      1073      1\n",
            "220   880                                       857      1\n",
            "221   512                                 6531,6598      1\n",
            "\n",
            "[222 rows x 3 columns]>\n"
          ]
        }
      ]
    },
    {
      "cell_type": "markdown",
      "metadata": {
        "id": "Le1UHUODmCbq"
      },
      "source": [
        "On indexe les articles dans l'index PyTerrier (`DFIndex` avait un bug, donc on passe par un `IterDictIndex`)"
      ]
    },
    {
      "cell_type": "code",
      "execution_count": 7,
      "metadata": {
        "id": "1Z39iqiCmCbq",
        "colab": {
          "base_uri": "https://localhost:8080/"
        },
        "outputId": "b1e70781-91d9-490c-ce2c-0ef4b763249b"
      },
      "outputs": [
        {
          "output_type": "stream",
          "name": "stdout",
          "text": [
            "18:55:17.623 [ForkJoinPool-1-worker-3] WARN org.terrier.structures.indexing.Indexer - Adding an empty document to the index (18417) - further warnings are suppressed\n",
            "18:55:22.937 [ForkJoinPool-1-worker-3] WARN org.terrier.structures.indexing.Indexer - Indexed 1 empty documents\n"
          ]
        }
      ],
      "source": [
        "# Indexing the articles using IterDictIndexer\n",
        "if os.path.exists(\"./bsard_index\"):\n",
        "    shutil.rmtree(\"./bsard_index\")\n",
        "indexer = pt.IterDictIndexer(\"./bsard_index\", overwrite=True)\n",
        "docs = [{\"docno\": str(row[\"id\"]), \"text\": row[\"article\"]} for _, row in df_articles.iterrows()]\n",
        "indexref = indexer.index(docs, fields=[\"text\"])\n",
        "\n",
        "index = pt.IndexFactory.of(indexref)\n"
      ]
    },
    {
      "cell_type": "markdown",
      "metadata": {
        "id": "98QokzdtmCbq"
      },
      "source": [
        "Le `retriever` doit être capable, étant donné une question, de classer les articles par pertinence. Le format de sortie est un CSV avec trois colonnes :\n",
        "- `qid` : `str` l'identifiant de la question\n",
        "- `docno` : `str` l'identifiant de l'article\n",
        "- `score` : `float` le score de pertinence de l'article pour la question\n",
        "\n",
        "Libre au candidat de choisir l'approche qu'il préfère pour construire le `retriever`, l'essentiel étant qu'il construise un fichier CSV avec les colonnes `qid`, `docno` et `score`.\n",
        "\n",
        "**Remarque** : Il peut ainsi y avoir plusieurs lignes pour une même question, si plusieurs articles sont pertinents (ce qui est souvent le cas)"
      ]
    },
    {
      "cell_type": "code",
      "execution_count": null,
      "metadata": {
        "id": "YO2MNgvumCbr"
      },
      "outputs": [],
      "source": [
        "# Define the retrieval model : for example dummy BM25 and TF-IDF\n",
        "tfidf = pt.BatchRetrieve(index, wmodel=\"TF_IDF\", properties={\"c\": 1.0})\n",
        "bm25 = pt.BatchRetrieve(index, wmodel=\"BM25\",  properties={\"c\": 1.0, \"bm25.k_1\": 1, \"bm25.b\": 0.6})\n",
        "\n",
        "# Run the TF-IDF model and save the results\n",
        "tfidf_results = tfidf.transform(test_queries)\n",
        "tfid_results = tfidf_results[[\"qid\", \"docno\", \"score\"]]\n",
        "tfidf_results.to_csv(\"tfidf_results.csv\", index=False)\n",
        "\n",
        "# Run the BM25 model and save the results\n",
        "bm25_results = bm25.transform(test_queries)\n",
        "bm25_results = bm25_results[[\"qid\", \"docno\", \"score\"]]\n",
        "bm25_results.to_csv(\"bm25_results.csv\", index=False)\n"
      ]
    },
    {
      "cell_type": "code",
      "execution_count": null,
      "metadata": {
        "id": "GadMEcjJmCbr",
        "colab": {
          "base_uri": "https://localhost:8080/"
        },
        "outputId": "d8cea2a6-7f66-48e7-b1d5-d05d4279aaf8"
      },
      "outputs": [
        {
          "output_type": "stream",
          "name": "stdout",
          "text": [
            "     name  recall_1  recall_5  recall_10     RR@10     AP@10  recall_100  \\\n",
            "0  TF-IDF  0.040541  0.085586   0.112613  0.059032  0.059032    0.216216   \n",
            "1    BM25  0.027027  0.049550   0.067568  0.037925  0.037925    0.162162   \n",
            "\n",
            "   recall_200  recall_500       map      ndcg    RR@100  nDCG@100    AP@100  \n",
            "0    0.243243    0.256757  0.063303  0.100965  0.063036  0.092742  0.063035  \n",
            "1    0.202703    0.220721  0.041664  0.074317  0.041291  0.063741  0.041291  \n"
          ]
        }
      ],
      "source": [
        "# Define the evaluation metrics\n",
        "eval_metrics = [\"recall_1\", \"recall_5\", \"recall_10\", RR@10, AP@10, \"recall_100\", \"recall_200\", \"recall_500\", \"map\", \"ndcg\", RR@100, nDCG@100, AP@100]\n",
        "\n",
        "# Load the results\n",
        "tfidf_results = pd.read_csv(\"tfidf_results.csv\")\n",
        "bm25_results = pd.read_csv(\"bm25_results.csv\")\n",
        "\n",
        "# Evaluate the models\n",
        "result = pt.Experiment(\n",
        "    [tfidf_results, bm25_results],\n",
        "    test_queries,\n",
        "    qrels,\n",
        "    eval_metrics,\n",
        "    names=['TF-IDF', \"BM25\"],\n",
        ")\n",
        "\n",
        "print(result)\n"
      ]
    },
    {
      "cell_type": "markdown",
      "source": [
        "## Embeddings des articles et des questions d'entrainements"
      ],
      "metadata": {
        "id": "Oc4sXO-eCFlv"
      }
    },
    {
      "cell_type": "code",
      "source": [
        "from transformers import CamembertTokenizer, CamembertModel\n",
        "import torch\n",
        "\n",
        "tokenizer = CamembertTokenizer.from_pretrained('camembert-base')\n",
        "model = CamembertModel.from_pretrained('camembert-base')\n",
        "\n"
      ],
      "metadata": {
        "colab": {
          "base_uri": "https://localhost:8080/",
          "height": 316,
          "referenced_widgets": [
            "7d77ff9742014c488ae4910a9d815f12",
            "d49ad92106074498a3752fb75aefef86",
            "423d92f46e8d47f7b89184a85076d493",
            "ead3514e7a8c4de39404296f69cfc3f3",
            "9e9442ef10724ff5ad0c56b00bcdc5bc",
            "f3a3ae1357bc49b99de2fad5c77590bf",
            "5e124e06ce7b4505985b210c3d73b5bc",
            "de2075720db24329b691f732d233e7bd",
            "e6a8d425be254ffc84c581c6d8b02a11",
            "eafd59e9e7b942619b0f039a121cff8b",
            "71bf66c708ee4c92a1d328e7fc26344a",
            "229596c9b23843f3acee559d9fa1793b",
            "f17dca8904a44e61b8d2370d71bedc94",
            "10f2c28cd50c4f6e98106e2144a64d86",
            "2bee740061a44616ab662ad2b185649b",
            "0d7eba9b764245dab5020b205ae05861",
            "a05e3682c216466784e475a449b9299a",
            "341b63798eef4c63b96ae3e97f77a5be",
            "01ef85b00ec84e1f9b5f8e345c127f1a",
            "77639dfacce74760abaf24e5054f4bba",
            "f926f694e7f64e80a3146bc6208f1db7",
            "4665b656a5ee4b88bc72fd6e73975ef8",
            "438890e170914a8f9f0ac4ba6490d32e",
            "2638e48053364e199f99bc39ef0bc91b",
            "31cd5ffce0a148209848b81d60a73b52",
            "7469880b72d343ff9b534ec05bf1680a",
            "336d8d2530ed46d18b187c8f468e90e5",
            "9d789453953f436780a8637a000e21e2",
            "8f200fdbfc8247d2874ab538200d810c",
            "8df428e405dd4762aab91413aacebcd0",
            "4c3c2114c3e248f1a699b873b4d967b2",
            "86f5192707a6458da854fc041a27b31d",
            "93c11a7b718241f6b8544047e3507741",
            "c1c47295bf0642da934b9c1cc9e68a9d",
            "0924b4bdb81a442b9839897dc638bca0",
            "88d8e7d7320c44fda4402b18709d08f6",
            "e6711a046fb046f29e6e86996d14334d",
            "b38f146228a141d5a602b756ff86e885",
            "1b1b1ee24d2e45b7b1687b2c06d685db",
            "7f6e69d9c8c0499699d1fee3836cbfaf",
            "52fe2619b173487793da3675d24921ed",
            "b17a0d62e39843fe8f4b54d7b825ee3a",
            "a90b7d6087fb4d858001615e8a9c70b7",
            "d6beb39e99a04d16bf93604e06bc42d6",
            "43f79a9bd50449d8a30c7ccfa9b9a308",
            "efc4531a19a84a3984d0603b4642b6e8",
            "771964df474e4bcaa656a9182b9fc4cb",
            "f6eded32675d4bda9af97b2c9a7460f4",
            "cde1fe866b9c489e89903bf897adcff1",
            "82a09259acd64fdd9f0fcffb608b725f",
            "c76124002609484cade46dcc66888a93",
            "151ee68052574bec8aae263bcf5a5614",
            "dabdf6aaf44841ebb3527f3f04cbf41e",
            "dff3fd3cad0c44aeb9dfc807da97078f",
            "247f6a2542114279af454131535fb4ed"
          ]
        },
        "id": "M8S9llbioPKv",
        "outputId": "6b097699-0033-4b0d-b8b6-bcd0cd4af4a8"
      },
      "execution_count": 8,
      "outputs": [
        {
          "output_type": "stream",
          "name": "stderr",
          "text": [
            "/usr/local/lib/python3.10/dist-packages/huggingface_hub/utils/_token.py:88: UserWarning: \n",
            "The secret `HF_TOKEN` does not exist in your Colab secrets.\n",
            "To authenticate with the Hugging Face Hub, create a token in your settings tab (https://huggingface.co/settings/tokens), set it as secret in your Google Colab and restart your session.\n",
            "You will be able to reuse this secret in all of your notebooks.\n",
            "Please note that authentication is recommended but still optional to access public models or datasets.\n",
            "  warnings.warn(\n"
          ]
        },
        {
          "output_type": "display_data",
          "data": {
            "text/plain": [
              "tokenizer_config.json:   0%|          | 0.00/25.0 [00:00<?, ?B/s]"
            ],
            "application/vnd.jupyter.widget-view+json": {
              "version_major": 2,
              "version_minor": 0,
              "model_id": "7d77ff9742014c488ae4910a9d815f12"
            }
          },
          "metadata": {}
        },
        {
          "output_type": "display_data",
          "data": {
            "text/plain": [
              "sentencepiece.bpe.model:   0%|          | 0.00/811k [00:00<?, ?B/s]"
            ],
            "application/vnd.jupyter.widget-view+json": {
              "version_major": 2,
              "version_minor": 0,
              "model_id": "229596c9b23843f3acee559d9fa1793b"
            }
          },
          "metadata": {}
        },
        {
          "output_type": "display_data",
          "data": {
            "text/plain": [
              "tokenizer.json:   0%|          | 0.00/1.40M [00:00<?, ?B/s]"
            ],
            "application/vnd.jupyter.widget-view+json": {
              "version_major": 2,
              "version_minor": 0,
              "model_id": "438890e170914a8f9f0ac4ba6490d32e"
            }
          },
          "metadata": {}
        },
        {
          "output_type": "display_data",
          "data": {
            "text/plain": [
              "config.json:   0%|          | 0.00/508 [00:00<?, ?B/s]"
            ],
            "application/vnd.jupyter.widget-view+json": {
              "version_major": 2,
              "version_minor": 0,
              "model_id": "c1c47295bf0642da934b9c1cc9e68a9d"
            }
          },
          "metadata": {}
        },
        {
          "output_type": "stream",
          "name": "stderr",
          "text": [
            "Special tokens have been added in the vocabulary, make sure the associated word embeddings are fine-tuned or trained.\n"
          ]
        },
        {
          "output_type": "display_data",
          "data": {
            "text/plain": [
              "model.safetensors:   0%|          | 0.00/445M [00:00<?, ?B/s]"
            ],
            "application/vnd.jupyter.widget-view+json": {
              "version_major": 2,
              "version_minor": 0,
              "model_id": "43f79a9bd50449d8a30c7ccfa9b9a308"
            }
          },
          "metadata": {}
        }
      ]
    },
    {
      "cell_type": "code",
      "source": [
        "def text_to_embedding(description, article, tokenizer, model):\n",
        "    # on remplace NaN par une chaîne vide\n",
        "    description = str(description) if not pd.isna(description) else \"\"\n",
        "    article = str(article) if not pd.isna(article) else \"\"\n",
        "    # Concaténation de la description avec l'article\n",
        "    combined_text = description + \" \" + article\n",
        "    # Tokenize le texte combiné et prépare les tensors\n",
        "    inputs = tokenizer(combined_text, return_tensors=\"pt\", padding=True, truncation=True, max_length=512)\n",
        "    # Obtention des sorties du modèle\n",
        "    with torch.no_grad():\n",
        "        outputs = model(**inputs)\n",
        "    # dernier état caché\n",
        "    embeddings = outputs.last_hidden_state.mean(dim=1)\n",
        "\n",
        "    return embeddings\n",
        "\n"
      ],
      "metadata": {
        "id": "4gXtkb3NoQ5V"
      },
      "execution_count": 9,
      "outputs": []
    },
    {
      "cell_type": "code",
      "source": [
        "from google.colab import drive\n",
        "drive.mount('/content/drive')\n"
      ],
      "metadata": {
        "colab": {
          "base_uri": "https://localhost:8080/"
        },
        "id": "lKaHHKru370c",
        "outputId": "d90f543f-75ff-465e-a8a9-819d48f849a1"
      },
      "execution_count": 10,
      "outputs": [
        {
          "output_type": "stream",
          "name": "stdout",
          "text": [
            "Mounted at /content/drive\n"
          ]
        }
      ]
    },
    {
      "cell_type": "code",
      "source": [
        "def save_embeddings(batch_embeddings, batch_index, save_dir='/content/drive/My Drive/Jimini/article_embeddings'):\n",
        "    if not os.path.exists(save_dir):\n",
        "        os.makedirs(save_dir)\n",
        "    file_path = os.path.join(save_dir, f'embeddings_batch_{batch_index}.pt')\n",
        "    torch.save(batch_embeddings, file_path)"
      ],
      "metadata": {
        "id": "MhCWYasf4MtX"
      },
      "execution_count": 11,
      "outputs": []
    },
    {
      "cell_type": "code",
      "source": [
        "df_articles['description'] = df_articles['description'].astype(str)\n",
        "df_articles['article'] = df_articles['article'].astype(str)\n"
      ],
      "metadata": {
        "id": "D6xyepQ1cDnI"
      },
      "execution_count": null,
      "outputs": []
    },
    {
      "cell_type": "markdown",
      "source": [
        "#### Première tentative et echec de l'embedding des articles"
      ],
      "metadata": {
        "id": "TkA2gpWbvgy4"
      }
    },
    {
      "cell_type": "code",
      "source": [
        "batch_size = 1000\n",
        "\n",
        "for i in range(0, len(df_articles), batch_size):\n",
        "    batch = df_articles.iloc[i:i+batch_size]\n",
        "    batch_embeddings = torch.stack([\n",
        "        text_to_embedding(row['description'], row['article'], tokenizer, model)\n",
        "        for _, row in batch.iterrows()\n",
        "    ])\n",
        "    save_embeddings(batch_embeddings, batch_index=i//batch_size)\n",
        "    print(f'Lot {i//batch_size} traité et sauvegardé.')\n",
        "\n",
        "#8 minutes pour 1000 articles :   176 minutes = 3 heures  pour 22 000 articles"
      ],
      "metadata": {
        "colab": {
          "base_uri": "https://localhost:8080/"
        },
        "id": "l8O-oRnw4Udv",
        "outputId": "bacfaf52-62dc-4d82-9b03-f931017b503c"
      },
      "execution_count": null,
      "outputs": [
        {
          "output_type": "stream",
          "name": "stdout",
          "text": [
            "Lot 0 traité et sauvegardé.\n",
            "Lot 1 traité et sauvegardé.\n",
            "Lot 2 traité et sauvegardé.\n",
            "Lot 3 traité et sauvegardé.\n",
            "Lot 4 traité et sauvegardé.\n",
            "Lot 5 traité et sauvegardé.\n",
            "Lot 6 traité et sauvegardé.\n",
            "Lot 7 traité et sauvegardé.\n",
            "Lot 8 traité et sauvegardé.\n",
            "Lot 9 traité et sauvegardé.\n",
            "Lot 10 traité et sauvegardé.\n",
            "Lot 11 traité et sauvegardé.\n",
            "Lot 12 traité et sauvegardé.\n",
            "Lot 13 traité et sauvegardé.\n",
            "Lot 14 traité et sauvegardé.\n",
            "Lot 15 traité et sauvegardé.\n",
            "Lot 16 traité et sauvegardé.\n",
            "Lot 17 traité et sauvegardé.\n",
            "Lot 18 traité et sauvegardé.\n",
            "Lot 19 traité et sauvegardé.\n",
            "Lot 20 traité et sauvegardé.\n",
            "Lot 21 traité et sauvegardé.\n"
          ]
        }
      ]
    },
    {
      "cell_type": "code",
      "source": [
        "save_dir = '/content/drive/My Drive/Jimini/article_embeddings'  # Le dossier où sont stockés vos embeddings\n",
        "files = [os.path.join(save_dir, f) for f in os.listdir(save_dir) if f.startswith('embeddings_batch_')]\n",
        "files.sort(key=lambda x: int(x.split('_')[-1].split('.')[0]))  # Assurez-vous que les fichiers sont bien triés\n",
        "\n",
        "for file_path in files:\n",
        "    # Chargez les embeddings du lot actuel\n",
        "    batch_embeddings = torch.load(file_path)\n",
        "    all_article_embeddings.append(batch_embeddings)\n",
        "\n",
        "# Concaténez tous les embeddings en un seul tensor\n",
        "all_article_embeddings = torch.cat(all_article_embeddings, dim=0)\n",
        "\n",
        "final_embeddings_path = os.path.join(save_dir, 'all_article_embeddings.pt')\n",
        "torch.save(all_article_embeddings, final_embeddings_path)\n",
        "print(f'Tous les embeddings ont été regroupés et sauvegardés dans {final_embeddings_path}')\n",
        "\n",
        "\n",
        "#all_embeddings = torch.load(final_embeddings_path)"
      ],
      "metadata": {
        "id": "kxL5i_Oa8lWr",
        "colab": {
          "base_uri": "https://localhost:8080/"
        },
        "outputId": "9c190684-ab7e-47f5-a182-693eda2dd89a"
      },
      "execution_count": null,
      "outputs": [
        {
          "output_type": "stream",
          "name": "stdout",
          "text": [
            "Tous les embeddings ont été regroupés et sauvegardés dans /content/drive/My Drive/Jimini/article_embeddings/all_article_embeddings.pt\n"
          ]
        }
      ]
    },
    {
      "cell_type": "code",
      "source": [
        "save_dir = '/content/drive/My Drive/Jimini/article_embeddings'\n",
        "final_embeddings_path = os.path.join(save_dir, 'all_article_embeddings.pt')\n",
        "all_embeddings = torch.load(final_embeddings_path)"
      ],
      "metadata": {
        "colab": {
          "base_uri": "https://localhost:8080/",
          "height": 333
        },
        "id": "hmg-LtYaTORA",
        "outputId": "2a025776-895b-4593-cedf-cc5e2ab08edb"
      },
      "execution_count": null,
      "outputs": [
        {
          "output_type": "error",
          "ename": "KeyboardInterrupt",
          "evalue": "",
          "traceback": [
            "\u001b[0;31m---------------------------------------------------------------------------\u001b[0m",
            "\u001b[0;31mKeyboardInterrupt\u001b[0m                         Traceback (most recent call last)",
            "\u001b[0;32m<ipython-input-23-e475a66b61fc>\u001b[0m in \u001b[0;36m<cell line: 3>\u001b[0;34m()\u001b[0m\n\u001b[1;32m      1\u001b[0m \u001b[0msave_dir\u001b[0m \u001b[0;34m=\u001b[0m \u001b[0;34m'/content/drive/My Drive/Jimini/article_embeddings'\u001b[0m\u001b[0;34m\u001b[0m\u001b[0;34m\u001b[0m\u001b[0m\n\u001b[1;32m      2\u001b[0m \u001b[0mfinal_embeddings_path\u001b[0m \u001b[0;34m=\u001b[0m \u001b[0mos\u001b[0m\u001b[0;34m.\u001b[0m\u001b[0mpath\u001b[0m\u001b[0;34m.\u001b[0m\u001b[0mjoin\u001b[0m\u001b[0;34m(\u001b[0m\u001b[0msave_dir\u001b[0m\u001b[0;34m,\u001b[0m \u001b[0;34m'all_article_embeddings.pt'\u001b[0m\u001b[0;34m)\u001b[0m\u001b[0;34m\u001b[0m\u001b[0;34m\u001b[0m\u001b[0m\n\u001b[0;32m----> 3\u001b[0;31m \u001b[0mall_embeddings\u001b[0m \u001b[0;34m=\u001b[0m \u001b[0mtorch\u001b[0m\u001b[0;34m.\u001b[0m\u001b[0mload\u001b[0m\u001b[0;34m(\u001b[0m\u001b[0mfinal_embeddings_path\u001b[0m\u001b[0;34m)\u001b[0m\u001b[0;34m\u001b[0m\u001b[0;34m\u001b[0m\u001b[0m\n\u001b[0m",
            "\u001b[0;32m/usr/local/lib/python3.10/dist-packages/torch/serialization.py\u001b[0m in \u001b[0;36mload\u001b[0;34m(f, map_location, pickle_module, weights_only, mmap, **pickle_load_args)\u001b[0m\n\u001b[1;32m   1024\u001b[0m                     \u001b[0;32mexcept\u001b[0m \u001b[0mRuntimeError\u001b[0m \u001b[0;32mas\u001b[0m \u001b[0me\u001b[0m\u001b[0;34m:\u001b[0m\u001b[0;34m\u001b[0m\u001b[0;34m\u001b[0m\u001b[0m\n\u001b[1;32m   1025\u001b[0m                         \u001b[0;32mraise\u001b[0m \u001b[0mpickle\u001b[0m\u001b[0;34m.\u001b[0m\u001b[0mUnpicklingError\u001b[0m\u001b[0;34m(\u001b[0m\u001b[0mUNSAFE_MESSAGE\u001b[0m \u001b[0;34m+\u001b[0m \u001b[0mstr\u001b[0m\u001b[0;34m(\u001b[0m\u001b[0me\u001b[0m\u001b[0;34m)\u001b[0m\u001b[0;34m)\u001b[0m \u001b[0;32mfrom\u001b[0m \u001b[0;32mNone\u001b[0m\u001b[0;34m\u001b[0m\u001b[0;34m\u001b[0m\u001b[0m\n\u001b[0;32m-> 1026\u001b[0;31m                 return _load(opened_zipfile,\n\u001b[0m\u001b[1;32m   1027\u001b[0m                              \u001b[0mmap_location\u001b[0m\u001b[0;34m,\u001b[0m\u001b[0;34m\u001b[0m\u001b[0;34m\u001b[0m\u001b[0m\n\u001b[1;32m   1028\u001b[0m                              \u001b[0mpickle_module\u001b[0m\u001b[0;34m,\u001b[0m\u001b[0;34m\u001b[0m\u001b[0;34m\u001b[0m\u001b[0m\n",
            "\u001b[0;32m/usr/local/lib/python3.10/dist-packages/torch/serialization.py\u001b[0m in \u001b[0;36m_load\u001b[0;34m(zip_file, map_location, pickle_module, pickle_file, overall_storage, **pickle_load_args)\u001b[0m\n\u001b[1;32m   1436\u001b[0m     \u001b[0munpickler\u001b[0m \u001b[0;34m=\u001b[0m \u001b[0mUnpicklerWrapper\u001b[0m\u001b[0;34m(\u001b[0m\u001b[0mdata_file\u001b[0m\u001b[0;34m,\u001b[0m \u001b[0;34m**\u001b[0m\u001b[0mpickle_load_args\u001b[0m\u001b[0;34m)\u001b[0m\u001b[0;34m\u001b[0m\u001b[0;34m\u001b[0m\u001b[0m\n\u001b[1;32m   1437\u001b[0m     \u001b[0munpickler\u001b[0m\u001b[0;34m.\u001b[0m\u001b[0mpersistent_load\u001b[0m \u001b[0;34m=\u001b[0m \u001b[0mpersistent_load\u001b[0m\u001b[0;34m\u001b[0m\u001b[0;34m\u001b[0m\u001b[0m\n\u001b[0;32m-> 1438\u001b[0;31m     \u001b[0mresult\u001b[0m \u001b[0;34m=\u001b[0m \u001b[0munpickler\u001b[0m\u001b[0;34m.\u001b[0m\u001b[0mload\u001b[0m\u001b[0;34m(\u001b[0m\u001b[0;34m)\u001b[0m\u001b[0;34m\u001b[0m\u001b[0;34m\u001b[0m\u001b[0m\n\u001b[0m\u001b[1;32m   1439\u001b[0m \u001b[0;34m\u001b[0m\u001b[0m\n\u001b[1;32m   1440\u001b[0m     \u001b[0mtorch\u001b[0m\u001b[0;34m.\u001b[0m\u001b[0m_utils\u001b[0m\u001b[0;34m.\u001b[0m\u001b[0m_validate_loaded_sparse_tensors\u001b[0m\u001b[0;34m(\u001b[0m\u001b[0;34m)\u001b[0m\u001b[0;34m\u001b[0m\u001b[0;34m\u001b[0m\u001b[0m\n",
            "\u001b[0;32m/usr/local/lib/python3.10/dist-packages/torch/serialization.py\u001b[0m in \u001b[0;36mpersistent_load\u001b[0;34m(saved_id)\u001b[0m\n\u001b[1;32m   1406\u001b[0m         \u001b[0;32melse\u001b[0m\u001b[0;34m:\u001b[0m\u001b[0;34m\u001b[0m\u001b[0;34m\u001b[0m\u001b[0m\n\u001b[1;32m   1407\u001b[0m             \u001b[0mnbytes\u001b[0m \u001b[0;34m=\u001b[0m \u001b[0mnumel\u001b[0m \u001b[0;34m*\u001b[0m \u001b[0mtorch\u001b[0m\u001b[0;34m.\u001b[0m\u001b[0m_utils\u001b[0m\u001b[0;34m.\u001b[0m\u001b[0m_element_size\u001b[0m\u001b[0;34m(\u001b[0m\u001b[0mdtype\u001b[0m\u001b[0;34m)\u001b[0m\u001b[0;34m\u001b[0m\u001b[0;34m\u001b[0m\u001b[0m\n\u001b[0;32m-> 1408\u001b[0;31m             \u001b[0mtyped_storage\u001b[0m \u001b[0;34m=\u001b[0m \u001b[0mload_tensor\u001b[0m\u001b[0;34m(\u001b[0m\u001b[0mdtype\u001b[0m\u001b[0;34m,\u001b[0m \u001b[0mnbytes\u001b[0m\u001b[0;34m,\u001b[0m \u001b[0mkey\u001b[0m\u001b[0;34m,\u001b[0m \u001b[0m_maybe_decode_ascii\u001b[0m\u001b[0;34m(\u001b[0m\u001b[0mlocation\u001b[0m\u001b[0;34m)\u001b[0m\u001b[0;34m)\u001b[0m\u001b[0;34m\u001b[0m\u001b[0;34m\u001b[0m\u001b[0m\n\u001b[0m\u001b[1;32m   1409\u001b[0m \u001b[0;34m\u001b[0m\u001b[0m\n\u001b[1;32m   1410\u001b[0m         \u001b[0;32mreturn\u001b[0m \u001b[0mtyped_storage\u001b[0m\u001b[0;34m\u001b[0m\u001b[0;34m\u001b[0m\u001b[0m\n",
            "\u001b[0;32m/usr/local/lib/python3.10/dist-packages/torch/serialization.py\u001b[0m in \u001b[0;36mload_tensor\u001b[0;34m(dtype, numel, key, location)\u001b[0m\n\u001b[1;32m   1371\u001b[0m             \u001b[0mstorage\u001b[0m \u001b[0;34m=\u001b[0m \u001b[0moverall_storage\u001b[0m\u001b[0;34m[\u001b[0m\u001b[0mstorage_offset\u001b[0m\u001b[0;34m:\u001b[0m\u001b[0mstorage_offset\u001b[0m \u001b[0;34m+\u001b[0m \u001b[0mnumel\u001b[0m\u001b[0;34m]\u001b[0m\u001b[0;34m\u001b[0m\u001b[0;34m\u001b[0m\u001b[0m\n\u001b[1;32m   1372\u001b[0m         \u001b[0;32melse\u001b[0m\u001b[0;34m:\u001b[0m\u001b[0;34m\u001b[0m\u001b[0;34m\u001b[0m\u001b[0m\n\u001b[0;32m-> 1373\u001b[0;31m             \u001b[0mstorage\u001b[0m \u001b[0;34m=\u001b[0m \u001b[0mzip_file\u001b[0m\u001b[0;34m.\u001b[0m\u001b[0mget_storage_from_record\u001b[0m\u001b[0;34m(\u001b[0m\u001b[0mname\u001b[0m\u001b[0;34m,\u001b[0m \u001b[0mnumel\u001b[0m\u001b[0;34m,\u001b[0m \u001b[0mtorch\u001b[0m\u001b[0;34m.\u001b[0m\u001b[0mUntypedStorage\u001b[0m\u001b[0;34m)\u001b[0m\u001b[0;34m.\u001b[0m\u001b[0m_typed_storage\u001b[0m\u001b[0;34m(\u001b[0m\u001b[0;34m)\u001b[0m\u001b[0;34m.\u001b[0m\u001b[0m_untyped_storage\u001b[0m\u001b[0;34m\u001b[0m\u001b[0;34m\u001b[0m\u001b[0m\n\u001b[0m\u001b[1;32m   1374\u001b[0m         \u001b[0;31m# swap here if byteswapping is needed\u001b[0m\u001b[0;34m\u001b[0m\u001b[0;34m\u001b[0m\u001b[0m\n\u001b[1;32m   1375\u001b[0m         \u001b[0;32mif\u001b[0m \u001b[0mbyteorderdata\u001b[0m \u001b[0;32mis\u001b[0m \u001b[0;32mnot\u001b[0m \u001b[0;32mNone\u001b[0m\u001b[0;34m:\u001b[0m\u001b[0;34m\u001b[0m\u001b[0;34m\u001b[0m\u001b[0m\n",
            "\u001b[0;31mKeyboardInterrupt\u001b[0m: "
          ]
        }
      ]
    },
    {
      "cell_type": "code",
      "source": [
        "print(all_embeddings.shape)\n",
        "print(df_articles.shape)"
      ],
      "metadata": {
        "colab": {
          "base_uri": "https://localhost:8080/"
        },
        "id": "XbRnkkpiXJMb",
        "outputId": "5a1e826f-4707-4e23-871f-31e06a2120bb"
      },
      "execution_count": null,
      "outputs": [
        {
          "output_type": "stream",
          "name": "stdout",
          "text": [
            "torch.Size([21018, 1, 768])\n",
            "(22633, 13)\n"
          ]
        }
      ]
    },
    {
      "cell_type": "markdown",
      "source": [
        "#### Nouvelle tentative de l'embedding des articles"
      ],
      "metadata": {
        "id": "WbQjzyPHopVI"
      }
    },
    {
      "cell_type": "code",
      "source": [
        "from tqdm import tqdm #pour visualiser l'avancement\n",
        "\n",
        "save_dir = '/content/drive/My Drive/Jimini/article_embeddings'\n",
        "num_articles = len(df_articles)\n",
        "embedding_dim = 768  # dimension de sortie d'un Bert\n",
        "\n",
        "def text_to_embedding_with_fallback(description, article, tokenizer, model):\n",
        "    try:\n",
        "        return text_to_embedding(description, article, tokenizer, model)\n",
        "    except Exception as e:\n",
        "        print(f\"Error generating embedding: {e}\")\n",
        "        return torch.zeros((1, embedding_dim))  # j'ai recontré des erreurs pendant l'embedding donc je retourne des 0 dans ce cas\n",
        "\n",
        "\n",
        "\n",
        "for i in range(0, num_articles, 10000):\n",
        "    final_embeddings_path = os.path.join(save_dir, f'all_article_embeddings_{i}.pt')\n",
        "    # je regarde si l'embedding existe deja\n",
        "    if i==10000: # j'avais deja enregistré les autres, je voulais refaire que celui la\n",
        "      if not os.path.exists(final_embeddings_path):\n",
        "          batch_size = min(10000, num_articles - i)  # ajustement de batch size pour le dernier batch\n",
        "          print(f\"Generating embeddings for articles {i} to {i + batch_size}\")\n",
        "          batch_embeddings = torch.zeros((batch_size, embedding_dim))\n",
        "          for j, row in tqdm(enumerate(df_articles[i:i+batch_size].iterrows()), total=batch_size):\n",
        "              _, row = row  #(index, Series)\n",
        "              embedding = text_to_embedding_with_fallback(row['description'], row['article'], tokenizer, model).squeeze()\n",
        "              batch_embeddings[j] = embedding\n",
        "\n",
        "          # Sauvegarder les  embeddings apres chaque batch\n",
        "          torch.save(batch_embeddings, final_embeddings_path)\n",
        "          print(f'Embeddings saved in {final_embeddings_path}')\n",
        "      else:\n",
        "          print(f'Embeddings file {final_embeddings_path} already exists. Skipping generation.')\n",
        "\n"
      ],
      "metadata": {
        "colab": {
          "base_uri": "https://localhost:8080/"
        },
        "id": "SDat7dsAJYc5",
        "outputId": "937bd1af-deb4-474f-aded-b919c51a013a"
      },
      "execution_count": 12,
      "outputs": [
        {
          "output_type": "stream",
          "name": "stdout",
          "text": [
            "Embeddings file /content/drive/My Drive/Jimini/article_embeddings/all_article_embeddings_10000.pt already exists. Skipping generation.\n"
          ]
        }
      ]
    },
    {
      "cell_type": "code",
      "source": [
        "e1=torch.load(\"/content/drive/My Drive/Jimini/article_embeddings/all_article_embeddings_0.pt\")\n",
        "e2=torch.load(\"/content/drive/My Drive/Jimini/article_embeddings/all_article_embeddings_10000.pt\")\n",
        "e3=torch.load(\"/content/drive/My Drive/Jimini/article_embeddings/all_article_embeddings_20000.pt\")\n",
        "e1=e1[:10000] # e1 de la mauvaise taille\n",
        "\n",
        "#print(e1[9999])\n",
        "print(e2.shape)\n",
        "print(e3.shape)\n",
        "print(len(df_articles))\n",
        "\n",
        "# Concaténation des tensors pour former un seul tensor d'embeddings\n",
        "final_article = torch.cat([e1, e2, e3], dim=0)\n",
        "#print(final_article[9999])\n",
        "print(final_article.shape)\n",
        "torch.save(final_article, \"/content/drive/My Drive/Jimini/article_embeddings/final_article.pt\")"
      ],
      "metadata": {
        "colab": {
          "base_uri": "https://localhost:8080/"
        },
        "id": "GxnEm3Gyr51x",
        "outputId": "4fbc364a-ccc7-4c4d-9e3f-a572b735064c"
      },
      "execution_count": null,
      "outputs": [
        {
          "output_type": "stream",
          "name": "stdout",
          "text": [
            "torch.Size([10000, 768])\n",
            "torch.Size([2633, 768])\n",
            "22633\n",
            "torch.Size([22633, 768])\n"
          ]
        }
      ]
    },
    {
      "cell_type": "markdown",
      "source": [
        "Approche naive avec la similarité cosinus"
      ],
      "metadata": {
        "id": "ya7Knd2FsUQB"
      }
    },
    {
      "cell_type": "code",
      "source": [
        "from sklearn.metrics.pairwise import cosine_similarity\n",
        "import numpy as np\n",
        "\n",
        "# Générer des embeddings pour quelques questions et articles\n",
        "question_embeddings = torch.cat([text_to_embedding(\"\",df_test['question'].iloc[3], tokenizer, model)])\n",
        "articles_embeddings = torch.cat([\n",
        "    text_to_embedding(row['description'], row['article'], tokenizer, model)\n",
        "    for _, row in df_articles.iloc[5400:5600].iterrows()\n",
        "])\n",
        "# 20 sec pour 50 embeddings :\n",
        "# donc 9 000 secs pour 22 000 embeddings :\n",
        "\n",
        "\n",
        "# Supprimez la dimension inutile de taille 1 pour les deux ensembles d'embeddings\n",
        "question_embedding_np = question_embeddings.squeeze().numpy()\n",
        "article_embeddings_np = articles_embeddings.squeeze().numpy()\n",
        "\n",
        "# Maintenant, calculez la similarité cosinus comme prévu\n",
        "similarities = cosine_similarity(question_embedding_np.reshape(1, -1), article_embeddings_np)\n",
        "\n",
        "# Le reste de votre code pour récupérer les top 5 articles peut rester le même\n",
        "top5_idx = np.argsort(similarities[0])[-5:]\n",
        "top5_articles_ids = df_articles.iloc[top5_idx]['id'].values\n",
        "\n",
        "print(\"Top 5 des articles les plus similaires :\", [top5_articles_ids[i]+5400 for i in range(len(top5_articles_ids))])\n",
        "# devrait etre 5562"
      ],
      "metadata": {
        "colab": {
          "base_uri": "https://localhost:8080/"
        },
        "id": "OazPhPIQrplB",
        "outputId": "8f649887-dbb6-4b60-a458-4d11eba501be"
      },
      "execution_count": 97,
      "outputs": [
        {
          "output_type": "stream",
          "name": "stdout",
          "text": [
            "Top 5 des articles les plus similaires : [875, 1033, 874, 1024, 1029]\n"
          ]
        }
      ]
    },
    {
      "cell_type": "code",
      "source": [
        "print(all_train_embeddings.shape)\n",
        "print(df_train.shape)\n",
        "\n",
        "\n",
        "final_embeddings_path = os.path.join(save_dir, 'all_train_embeddings.pt')\n",
        "torch.save(all_train_embeddings, final_embeddings_path)\n",
        "print(f'Tous les embeddings ont été regroupés et sauvegardés dans {final_embeddings_path}')\n",
        "\n"
      ],
      "metadata": {
        "colab": {
          "base_uri": "https://localhost:8080/"
        },
        "id": "lvDLDF4Epr_m",
        "outputId": "729edb9a-44d0-4551-cc9d-64ad43a60e92"
      },
      "execution_count": null,
      "outputs": [
        {
          "output_type": "stream",
          "name": "stdout",
          "text": [
            "torch.Size([886, 768])\n",
            "(886, 6)\n",
            "Tous les embeddings ont été regroupés et sauvegardés dans /content/drive/My Drive/Jimini/article_embeddings/all_train_embeddings.pt\n"
          ]
        }
      ]
    },
    {
      "cell_type": "markdown",
      "source": [
        "## Chargement des embeddings et données"
      ],
      "metadata": {
        "id": "hWfjdHyFs-1y"
      }
    },
    {
      "cell_type": "code",
      "source": [
        "all_train_embeddings=torch.load('/content/drive/My Drive/Jimini/article_embeddings/all_train_embeddings.pt' )\n",
        "all_article_embeddings=torch.load('/content/drive/My Drive/Jimini/article_embeddings/final_article.pt' )"
      ],
      "metadata": {
        "id": "m7kIyCEd5k1-"
      },
      "execution_count": 13,
      "outputs": []
    },
    {
      "cell_type": "code",
      "source": [
        "import json\n",
        "\n",
        "# Remplacez 'path_to_your_file.json' par le chemin réel de votre fichier JSON\n",
        "with open('negatives_bm25_negatives_train.json', 'r') as f:\n",
        "    negative_map = json.load(f)\n",
        "\n",
        "negative_map = {int(k): v for k, v in negative_map.items()}\n",
        "\n",
        "positive_map = {int(row['id']): [int(article_id.strip()) for article_id in str(row['article_ids']).split(',')] for _, row in df_train.iterrows()}\n",
        "\n"
      ],
      "metadata": {
        "id": "bcx-6O2wzrxd"
      },
      "execution_count": 14,
      "outputs": []
    },
    {
      "cell_type": "markdown",
      "source": [
        "## Optimisation et entrainement"
      ],
      "metadata": {
        "id": "hZl5z8xgB_R3"
      }
    },
    {
      "cell_type": "code",
      "source": [
        "import random\n",
        "from torch.utils.data import Dataset, DataLoader\n",
        "\n",
        "class QuestionArticleDataset(Dataset):\n",
        "    def __init__(self, questions, articles, positive_map, negative_map):\n",
        "        self.questions = questions\n",
        "        self.articles = articles\n",
        "        # S'assurer que seules les clés présentes à la fois dans positive_map et negative_map sont utilisées\n",
        "        self.keys = [key for key in positive_map.keys() if key in negative_map]\n",
        "        self.positive_map = positive_map\n",
        "        self.negative_map = negative_map\n",
        "\n",
        "    def __len__(self):\n",
        "        # Utiliser la longueur de self.keys pour déterminer le nombre d'éléments dans le Dataset\n",
        "        return len(self.keys)\n",
        "\n",
        "    def __getitem__(self, idx):\n",
        "        # Utiliser self.keys[idx] pour obtenir l'ID de la question actuelle\n",
        "        question_id = self.keys[idx]\n",
        "\n",
        "        # Utiliser question_id pour accéder à positive_map et negative_map\n",
        "        q_embedding = self.questions[idx]\n",
        "        a_pos_index = random.choice(self.positive_map[question_id])  # Choix aléatoire d'un article positif\n",
        "        a_neg_index = random.choice(self.negative_map[question_id])  # Choix aléatoire d'un article négatif\n",
        "\n",
        "        a_pos_embedding = self.articles[a_pos_index]\n",
        "        a_neg_embedding = self.articles[a_neg_index]\n",
        "\n",
        "        return q_embedding, a_pos_embedding, a_neg_embedding\n",
        "\n",
        "questions_embeddings = all_train_embeddings\n",
        "articles_embeddings = all_article_embeddings\n",
        "positive_map = positive_map\n",
        "negative_map = negative_map\n",
        "\n",
        "# Initialiser le Dataset\n",
        "dataset = QuestionArticleDataset(questions_embeddings, articles_embeddings, positive_map, negative_map)\n",
        "\n",
        "# Créer un DataLoader\n",
        "data_loader = DataLoader(dataset, batch_size=32, shuffle=True)"
      ],
      "metadata": {
        "id": "8FcRoeijIpOx"
      },
      "execution_count": 15,
      "outputs": []
    },
    {
      "cell_type": "code",
      "source": [
        "\n",
        "import torch.nn as nn\n",
        "import torch.optim as optim\n",
        "\n",
        "class Projector(nn.Module):\n",
        "    def __init__(self, input_dim, proj_dim):\n",
        "        super(Projector, self).__init__()\n",
        "        self.fc = nn.Linear(input_dim, proj_dim)\n",
        "\n",
        "    def forward(self, x):\n",
        "        return self.fc(x)\n",
        "\n",
        "# Initialisation des projecteurs\n",
        "input_dim = 768  # taille de sortie d'un BERT\n",
        "proj_dim = 128 # Dimension souhaitée des embeddings projetés\n",
        "P_q = Projector(input_dim, proj_dim)\n",
        "P_a = Projector(input_dim, proj_dim)\n",
        "num_epochs=10\n",
        "# Fonction de perte et optimiseur\n",
        "margin = 1\n",
        "loss_fn = nn.TripletMarginLoss(margin=margin, p=2) # margin garantit que les exemples similaires sont dans une marge de sécurité\n",
        "optimizer = optim.Adam(list(P_q.parameters()) + list(P_a.parameters()), lr=0.001)\n",
        "\n",
        "# entrainement\n",
        "for epoch in range(num_epochs):\n",
        "    epoch_loss = 0\n",
        "    for q, a_pos, a_neg in data_loader:\n",
        "        optimizer.zero_grad()\n",
        "        q_proj = P_q(q)\n",
        "        a_pos_proj = P_a(a_pos)\n",
        "        a_neg_proj = P_a(a_neg)\n",
        "        loss = loss_fn(q_proj, a_pos_proj, a_neg_proj)\n",
        "        loss.backward()\n",
        "        optimizer.step()\n",
        "        epoch_loss += loss.item()\n",
        "    print(f'Epoch {epoch+1}, Loss: {epoch_loss/len(data_loader)}')\n"
      ],
      "metadata": {
        "id": "QefRGE9R_vkL",
        "colab": {
          "base_uri": "https://localhost:8080/"
        },
        "outputId": "15724945-7b3a-47ee-9160-110768124590"
      },
      "execution_count": 123,
      "outputs": [
        {
          "output_type": "stream",
          "name": "stdout",
          "text": [
            "Epoch 1, Loss: 0.8497014088290078\n",
            "Epoch 2, Loss: 0.6886797706995692\n",
            "Epoch 3, Loss: 0.6008915188057082\n",
            "Epoch 4, Loss: 0.5715664880616325\n",
            "Epoch 5, Loss: 0.5482889626707349\n",
            "Epoch 6, Loss: 0.513806477189064\n",
            "Epoch 7, Loss: 0.4958223540868078\n",
            "Epoch 8, Loss: 0.457973803792681\n",
            "Epoch 9, Loss: 0.4020880439451763\n",
            "Epoch 10, Loss: 0.3865130660789354\n"
          ]
        }
      ]
    },
    {
      "cell_type": "code",
      "source": [
        "save_path = '/content/drive/My Drive/Jimini/article_embeddings/P_q_projector_ex.pth'\n",
        "\n",
        "# Enregistrement du modèle\n",
        "torch.save(P_q.state_dict(), save_path)"
      ],
      "metadata": {
        "id": "nSDiVWb6DABv"
      },
      "execution_count": 127,
      "outputs": []
    },
    {
      "cell_type": "code",
      "source": [
        "P_a.eval()\n",
        "\n",
        "# Appliquez P_a à tous les embeddings\n",
        "with torch.no_grad():\n",
        "    projected_articles = P_a(all_article_embeddings)\n",
        "\n",
        "# Chemin pour sauvegarder les embeddings projetés sur Google Drive\n",
        "projected_embeddings_path = os.path.join('/content/drive/My Drive/Jimini/article_embeddings', 'all_projected_article_embeddings_ex.pt')\n",
        "\n",
        "# Sauvegarder sur Google Drive\n",
        "torch.save(projected_articles, projected_embeddings_path)\n",
        "print(f'Les embeddings projetés ont été sauvegardés dans {projected_embeddings_path}')\n"
      ],
      "metadata": {
        "id": "0G906kdXDyNG",
        "colab": {
          "base_uri": "https://localhost:8080/"
        },
        "outputId": "28afd5da-b054-452f-fc6b-13b72105e353"
      },
      "execution_count": 124,
      "outputs": [
        {
          "output_type": "stream",
          "name": "stdout",
          "text": [
            "Les embeddings projetés ont été sauvegardés dans /content/drive/My Drive/Jimini/article_embeddings/all_projected_article_embeddings_ex.pt\n"
          ]
        }
      ]
    },
    {
      "cell_type": "markdown",
      "source": [
        "## Trouver l'article correpondant"
      ],
      "metadata": {
        "id": "KCgWAaS01SjE"
      }
    },
    {
      "cell_type": "markdown",
      "source": [
        "charger les articles projettés et le projecteur de question"
      ],
      "metadata": {
        "id": "g7nL1JCnxHcB"
      }
    },
    {
      "cell_type": "code",
      "source": [
        "# Création d'une nouvelle instance de projecteur\n",
        "P_q_loaded = Projector(input_dim, proj_dim)\n",
        "\n",
        "# Chargement des paramètres enregistrés\n",
        "P_q_loaded.load_state_dict(torch.load('/content/drive/My Drive/Jimini/article_embeddings/P_q_projector_ex.pth'))\n",
        "\n",
        "# Assurez-vous de passer le modèle en mode évaluation si vous l'utilisez pour des inférences\n",
        "P_q_loaded.eval()\n",
        "\n",
        "projected_articles=torch.load('/content/drive/My Drive/Jimini/article_embeddings/all_projected_article_embeddings_ex.pt')\n",
        "print(projected_articles.shape)"
      ],
      "metadata": {
        "colab": {
          "base_uri": "https://localhost:8080/"
        },
        "id": "rwiRvewvDLLR",
        "outputId": "7de40c47-19f3-419d-dfc0-d5eef77ea58b"
      },
      "execution_count": 22,
      "outputs": [
        {
          "output_type": "execute_result",
          "data": {
            "text/plain": [
              "Projector(\n",
              "  (fc): Linear(in_features=768, out_features=128, bias=True)\n",
              ")"
            ]
          },
          "metadata": {},
          "execution_count": 22
        }
      ]
    },
    {
      "cell_type": "code",
      "source": [
        "# Pour une question, trouver le plus proche voisin\n",
        "from scipy.spatial import distance\n",
        "import numpy as np\n",
        "\n",
        "\n",
        "\n",
        "def find_closest_articles(question_text, description, projected_articles, tokenizer, model, projector, n=10):\n",
        "    # Concaténation de la description avec la question\n",
        "    combined_text = description + \" \" + question_text\n",
        "\n",
        "    # Tokenizer le texte combiné\n",
        "    inputs = tokenizer(combined_text, return_tensors=\"pt\", padding=True, truncation=True, max_length=512)\n",
        "\n",
        "    # Obtention des sorties du modèle\n",
        "    with torch.no_grad():\n",
        "        outputs = model(**inputs)\n",
        "\n",
        "    # Utilisation des embeddings du dernier état caché et projeter\n",
        "    embeddings = outputs.last_hidden_state.mean(dim=1)\n",
        "    projected_q = projector(embeddings)\n",
        "\n",
        "    # réduction des dimensions\n",
        "    projected_q = projected_q.detach().squeeze()  # Réduire à un vecteur 1-D\n",
        "\n",
        "    # Calculer les distances\n",
        "    distances = []\n",
        "    for i, projected_a in enumerate(projected_articles):\n",
        "        projected_a = projected_a.squeeze()  # vecteur 1-D\n",
        "        dist = distance.euclidean(projected_q.numpy(), projected_a.numpy())\n",
        "        distances.append((dist, i))\n",
        "\n",
        "    # Trouver les 10 plus petites distances\n",
        "    distances.sort(key=lambda x: x[0])\n",
        "    closest_ids = [distances[i][1] for i in range(n+5)]\n",
        "    closest_dist=[[distances[i][0] for i in range(n+5)]]\n",
        "    return closest_ids, closest_dist\n",
        "\n",
        "\n",
        "\n",
        "\n",
        "# Trouver les IDs des articles les plus proches\n",
        "\n",
        "print (\"TRAIN\")\n",
        "print(\"\\n\")\n",
        "closest_article_ids = find_closest_articles(\"Je suis travailleur salarié(e). Puis-je refuser de faire des heures supplémentaires ou de travailler de nuit ?\", \"Travail et parentalité, pendant la grossese\", projected_articles, tokenizer, model, P_q)\n",
        "print(\"Les IDs des 5 articles les plus proches sont :\", closest_article_ids[0])\n",
        "print(\"devrait être : [22225,22226,22227,22228,22229,22230,22231,22232,22233,22234]\")\n",
        "print(\"\\n\")\n",
        "closest_article_ids = find_closest_articles(\"Je suis marié(e). Nous sommes mariés. Dois-je reconnaître mon enfant ?\", \"Situation de couples; Mariage\", projected_articles, tokenizer, model, P_q)\n",
        "print(\"Les IDs des 5 articles les plus proches sont :\", closest_article_ids[0])\n",
        "print(\"devrait être : [1096,1097,1098,1108,1109,1110]\")\n",
        "print(\"\\n\")\n",
        "closest_article_ids = find_closest_articles(\"Qu'est-ce que le trajet de réintégration ?\", \"Santé et maladie, protection sociale, Reprise d'un travail adapté pendant l'incapacité, Trajet de réintégration\", projected_articles, tokenizer, model, P_q)\n",
        "print(\"Les IDs des 5 articles les plus proches sont :\", closest_article_ids[0])\n",
        "print(\"devrait être : [21114,21115,21116,21117,21118,21119,21120,21121,21122,21123,21124]\")\n",
        "print(\"\\n\")\n",
        "print(\"\\n\")\n",
        "\n",
        "\n",
        "print(\"TEST\")\n",
        "print(\"\\n\")\n",
        "closest_article_ids = find_closest_articles(\"Peut-on me confisquer ou saisir ma voiture si on y trouve du cannabis ?\", \"Argent, dette, Procédures de récupération des dettes, Récupération amiable des dettes\", projected_articles, tokenizer, model, P_q)\n",
        "print(\"Les IDs des 5 articles les plus proches sont :\", closest_article_ids[0])\n",
        "print(\"devrait être : [2041,2119,2138]\")\n",
        "\n",
        "print(\"\\n\")\n",
        "closest_article_ids = find_closest_articles(\"Quels frais peut-on ajouter lors d'un recouvrement amiable ?\", \"justice, Détenir, acheter et vendre du cannabis\", projected_articles, tokenizer, model, P_q)\n",
        "print(\"Les IDs des 5 articles les plus proches sont :\", closest_article_ids[0])\n",
        "print(\"devrait être : [6080,6120,6121,6122,6123,6124,6835,6769]\")\n",
        "\n",
        "for i in range(10):\n",
        "  print(\"\\n\")\n",
        "  closest_article_ids = find_closest_articles(df_train.iloc[i]['question'], df_train.iloc[i]['category']+df_train.iloc[i]['subcategory'], projected_articles, tokenizer, model, P_q)\n",
        "  print(\"Les IDs des 5 articles les plus proches sont :\", closest_article_ids[0])\n",
        "  print(\"devrait être : \", df_test.iloc[i][\"article_ids\"])\n",
        "\n"
      ],
      "metadata": {
        "id": "VZc7HOEzRysP",
        "colab": {
          "base_uri": "https://localhost:8080/"
        },
        "outputId": "ef52462c-fa65-4738-bcfe-6029765f654e"
      },
      "execution_count": 126,
      "outputs": [
        {
          "output_type": "stream",
          "name": "stdout",
          "text": [
            "TRAIN\n",
            "\n",
            "\n",
            "Les IDs des 5 articles les plus proches sont : [2821, 907, 949, 6721, 22231, 6646, 2826, 1659, 952, 6734, 1153, 6383, 2822, 5468, 934]\n",
            "devrait être : [22225,22226,22227,22228,22229,22230,22231,22232,22233,22234]\n",
            "\n",
            "\n",
            "Les IDs des 5 articles les plus proches sont : [1017, 1045, 1084, 1091, 1089, 1080, 1061, 1053, 1018, 1030, 1090, 2447, 2360, 1068, 1019]\n",
            "devrait être : [1096,1097,1098,1108,1109,1110]\n",
            "\n",
            "\n",
            "Les IDs des 5 articles les plus proches sont : [823, 1150, 1306, 13912, 13404, 1113, 1305, 6507, 5572, 914, 5423, 1115, 1116, 1502, 1310]\n",
            "devrait être : [21114,21115,21116,21117,21118,21119,21120,21121,21122,21123,21124]\n",
            "\n",
            "\n",
            "\n",
            "\n",
            "TEST\n",
            "\n",
            "\n",
            "Les IDs des 5 articles les plus proches sont : [5308, 2421, 2203, 5491, 2005, 981, 2205, 2804, 2805, 2157, 2787, 1065, 2002, 2162, 2029]\n",
            "devrait être : [2041,2119,2138]\n",
            "\n",
            "\n",
            "Les IDs des 5 articles les plus proches sont : [4825, 5162, 5557, 13658, 4821, 5947, 5181, 13914, 4961, 5216, 4822, 4843, 2976, 4766, 6502]\n",
            "devrait être : [6080,6120,6121,6122,6123,6124,6835,6769]\n",
            "\n",
            "\n",
            "Les IDs des 5 articles les plus proches sont : [2821, 907, 6721, 2826, 5468, 22231, 6646, 949, 1659, 1315, 6734, 1303, 952, 1505, 2328]\n",
            "devrait être :  12024\n",
            "\n",
            "\n",
            "Les IDs des 5 articles les plus proches sont : [1063, 2368, 2505, 1978, 2836, 2800, 1866, 2360, 1776, 2352, 2343, 1981, 2488, 2506, 2503]\n",
            "devrait être :  947,948\n",
            "\n",
            "\n",
            "Les IDs des 5 articles les plus proches sont : [1061, 1017, 1045, 1074, 1091, 2301, 1030, 1084, 2304, 1018, 1073, 1019, 1080, 2360, 1077]\n",
            "devrait être :  2041,2119,2138\n",
            "\n",
            "\n",
            "Les IDs des 5 articles les plus proches sont : [2114, 2090, 1996, 2044, 2014, 2161, 2076, 2061, 2072, 2058, 2051, 2059, 2049, 2079, 2011]\n",
            "devrait être :  5562,5563,5564,5565,5566\n",
            "\n",
            "\n",
            "Les IDs des 5 articles les plus proches sont : [6179, 6182, 1107, 6178, 6481, 6167, 13898, 6180, 6181, 6496, 6186, 6175, 13899, 6176, 6331]\n",
            "devrait être :  5561,5562,5563,5564,5565,5566,5567,12124\n",
            "\n",
            "\n",
            "Les IDs des 5 articles les plus proches sont : [856, 855, 858, 875, 2114, 2113, 2076, 2090, 839, 870, 838, 841, 871, 2058, 852]\n",
            "devrait être :  13520\n",
            "\n",
            "\n",
            "Les IDs des 5 articles les plus proches sont : [2343, 1978, 1063, 1866, 2360, 2367, 2428, 2205, 2368, 2362, 1019, 1598, 1925, 1095, 1777]\n",
            "devrait être :  944,945,946,947,948,949,950,951,1093,1094,1095,1274,1275,1276\n",
            "\n",
            "\n",
            "Les IDs des 5 articles les plus proches sont : [2328, 5468, 1021, 1147, 5727, 1022, 1145, 1368, 2334, 1987, 5455, 5337, 1673, 2238, 1284]\n",
            "devrait être :  5961\n",
            "\n",
            "\n",
            "Les IDs des 5 articles les plus proches sont : [1621, 1560, 1507, 1997, 1638, 1478, 1633, 1511, 1516, 1518, 2135, 2029, 1620, 1528, 2089]\n",
            "devrait être :  1308,1310\n",
            "\n",
            "\n",
            "Les IDs des 5 articles les plus proches sont : [2114, 2044, 2090, 2072, 2076, 2014, 2061, 2105, 2117, 2059, 2058, 2049, 2104, 2057, 2062]\n",
            "devrait être :  5966\n"
          ]
        }
      ]
    },
    {
      "cell_type": "markdown",
      "source": [
        "## Evaluation du retriever"
      ],
      "metadata": {
        "id": "ZO4kYOaAj86l"
      }
    },
    {
      "cell_type": "code",
      "source": [
        "# inutile donne 0 ici\n",
        "def give_score(articles1,articles2):\n",
        "    score=0\n",
        "    for article in articles1:\n",
        "      if article in articles2:\n",
        "        score+=1\n",
        "    return score/len(articles2)\n"
      ],
      "metadata": {
        "id": "lGQxeZNdGjSj"
      },
      "execution_count": 34,
      "outputs": []
    },
    {
      "cell_type": "code",
      "source": [
        "print(test_queries.head)"
      ],
      "metadata": {
        "colab": {
          "base_uri": "https://localhost:8080/"
        },
        "id": "yEd6d4MRJO3d",
        "outputId": "3056b612-5466-4d49-ef41-c9764ff5d348"
      },
      "execution_count": 35,
      "outputs": [
        {
          "output_type": "stream",
          "name": "stdout",
          "text": [
            "<bound method NDFrame.head of       qid                                              query  \\\n",
            "0     775    Quels sont les critères communaux d insalubrité   \n",
            "1    1053  A t on droit à l allocation de naissance en ca...   \n",
            "2      72  Quels frais peut on ajouter lors d un recouvre...   \n",
            "3     861       Comment se déroule une expulsion à Bruxelles   \n",
            "4     786            Peut on m expulser en hiver en Wallonie   \n",
            "..    ...                                                ...   \n",
            "217   524  Je deviens cohabitant légal Dois je payer les ...   \n",
            "218    69                       A qui dois je payer ma dette   \n",
            "219   463  Je suis marié e On prend un logement en locati...   \n",
            "220   880  Est ce que je peux signer plusieurs baux de co...   \n",
            "221   512  Je suis victime de violences conjugales En tan...   \n",
            "\n",
            "                                     rel_docnos  \n",
            "0                                       [12024]  \n",
            "1                                     [947,948]  \n",
            "2                              [2041,2119,2138]  \n",
            "3                    [5562,5563,5564,5565,5566]  \n",
            "4    [5561,5562,5563,5564,5565,5566,5567,12124]  \n",
            "..                                          ...  \n",
            "217                            [2328,2329,2330]  \n",
            "218                                      [2127]  \n",
            "219                                      [1073]  \n",
            "220                                       [857]  \n",
            "221                                 [6531,6598]  \n",
            "\n",
            "[222 rows x 3 columns]>\n"
          ]
        }
      ]
    },
    {
      "cell_type": "code",
      "source": [
        "results = []\n",
        "\n",
        "for idx, row in test_queries.iterrows():\n",
        "    qid = row['qid']\n",
        "    query_text = row['query']\n",
        "    n=len(row['rel_docnos'])\n",
        "    #description = df_test.iloc[idx][\"category\"]+df_test.iloc[idx][\"subcategory\"]+ df_test.iloc[idx][\"extra_description\"] # Ou utilisez une colonne de 'test_queries' si applicable\n",
        "    description = df_test.iloc[idx][\"category\"]+df_test.iloc[idx][\"subcategory\"]\n",
        "    closest_article_ids = find_closest_articles(query_text, description, projected_articles, tokenizer, model, P_q, n)[0]\n",
        "    score=give_score(list(closest_article_ids),row['rel_docnos'])\n",
        "    # Pour cet exemple, les scores sont définis comme inverses des rangs (simple exemple)\n",
        "    for rank, article_id in enumerate(closest_article_ids):\n",
        "        results.append({'qid': qid, 'docno': article_id, 'score': score})\n",
        "\n"
      ],
      "metadata": {
        "id": "a2jQM7wdj_Hk"
      },
      "execution_count": 111,
      "outputs": []
    },
    {
      "cell_type": "code",
      "source": [
        "print(results_df)\n",
        "file_path = '/content/drive/My Drive/Jimini/article_embeddings/custom_retrieval_results.csv'\n",
        "# Enregistrer le fichier CSV\n",
        "results_df.to_csv(file_path, index=False)\n"
      ],
      "metadata": {
        "colab": {
          "base_uri": "https://localhost:8080/"
        },
        "id": "txidQUClnJYT",
        "outputId": "859f79d7-4a26-479e-d5fe-6f1226a735be"
      },
      "execution_count": 113,
      "outputs": [
        {
          "output_type": "stream",
          "name": "stdout",
          "text": [
            "      qid  docno  score\n",
            "0     775    855    0.0\n",
            "1     775    856    0.0\n",
            "2     775   1338    0.0\n",
            "3     775   6591    0.0\n",
            "4     775   1502    0.0\n",
            "...   ...    ...    ...\n",
            "1327  512  22445    0.0\n",
            "1328  512  22449    0.0\n",
            "1329  512   1087    0.0\n",
            "1330  512   2830    0.0\n",
            "1331  512   1078    0.0\n",
            "\n",
            "[1332 rows x 3 columns]\n"
          ]
        }
      ]
    },
    {
      "cell_type": "markdown",
      "metadata": {
        "id": "f33o4kZ2mCbs"
      },
      "source": [
        "## Quelques questions ouvertes\n",
        "\n",
        "### Information Retrieval\n",
        "\n",
        "Dans le cas de *Jimini Analyzer*, on est dans un contexte un peu particulier, où l'information provient de documents structurés.\n",
        "- L'approche précédente ne tient compte que du contenu des paragraphes, pas de leur place dans la structure du document. Comment pourrait-on améliorer cela ?\n",
        "\n",
        "- Que pensez-vous du dataset utilisé ? Comment pourrait-on l'améliorer ?\n",
        "plus de données\n",
        "\n",
        "\n",
        "- Quelle stratégie adopter pour faire un résumé d'un long document ?\n",
        "\n",
        "\n",
        "### Raisonnement juridique\n",
        "\n",
        "\n",
        "Récupérer le contexte pertinent est une étape *sine qua none*, mais il faut ensuite fournir le contexte au LLM, et qu'il réponde à la question posée.\n",
        "- Comment évaluer le LLM sur le contenu de ses réponses ?\n",
        "- Quelles métriques utiliser ?\n",
        "- Quel dataset utiliser / construire pour faire acquérir un raisonnement juridique au LLM ?\n",
        "- Comment s'assurer que le dataset est de qualité / représentatif ?  \n",
        "- De quel modèle partir ?\n",
        "- Quelle technique d'entraînement utiliser ? (full-parameter fine-tuning, PEFT - LoRA - QLoRA , prompt-tuning,...)\n",
        "- Comment contrôler l'hallucination ?\n",
        "- Comment faire de l'amélioration continue, en s'assurant que le modèle ne se dégrade pas lorsqu'on lui enseigne une nouvelle compétence ?\n",
        "- Comment limiter les frais de calculs ?\n",
        "\n",
        "\n",
        "### Rédaction de documents\n",
        "\n",
        "- Comment rédiger un contrat de plusieurs dizaines de pages ?\n",
        "\n",
        "### Bonus\n",
        "\n",
        "Sentez-vous libre de proposer des améliorations, des idées, des pistes, etc. !\n",
        "\n",
        "\n"
      ]
    },
    {
      "cell_type": "markdown",
      "metadata": {
        "id": "aZXrUga7mCbs"
      },
      "source": []
    }
  ],
  "metadata": {
    "kernelspec": {
      "display_name": "Python 3",
      "name": "python3"
    },
    "language_info": {
      "codemirror_mode": {
        "name": "ipython",
        "version": 3
      },
      "file_extension": ".py",
      "mimetype": "text/x-python",
      "name": "python",
      "nbconvert_exporter": "python",
      "pygments_lexer": "ipython3",
      "version": "3.11.4"
    },
    "colab": {
      "provenance": [],
      "gpuType": "T4"
    },
    "accelerator": "GPU",
    "widgets": {
      "application/vnd.jupyter.widget-state+json": {
        "7d77ff9742014c488ae4910a9d815f12": {
          "model_module": "@jupyter-widgets/controls",
          "model_name": "HBoxModel",
          "model_module_version": "1.5.0",
          "state": {
            "_dom_classes": [],
            "_model_module": "@jupyter-widgets/controls",
            "_model_module_version": "1.5.0",
            "_model_name": "HBoxModel",
            "_view_count": null,
            "_view_module": "@jupyter-widgets/controls",
            "_view_module_version": "1.5.0",
            "_view_name": "HBoxView",
            "box_style": "",
            "children": [
              "IPY_MODEL_d49ad92106074498a3752fb75aefef86",
              "IPY_MODEL_423d92f46e8d47f7b89184a85076d493",
              "IPY_MODEL_ead3514e7a8c4de39404296f69cfc3f3"
            ],
            "layout": "IPY_MODEL_9e9442ef10724ff5ad0c56b00bcdc5bc"
          }
        },
        "d49ad92106074498a3752fb75aefef86": {
          "model_module": "@jupyter-widgets/controls",
          "model_name": "HTMLModel",
          "model_module_version": "1.5.0",
          "state": {
            "_dom_classes": [],
            "_model_module": "@jupyter-widgets/controls",
            "_model_module_version": "1.5.0",
            "_model_name": "HTMLModel",
            "_view_count": null,
            "_view_module": "@jupyter-widgets/controls",
            "_view_module_version": "1.5.0",
            "_view_name": "HTMLView",
            "description": "",
            "description_tooltip": null,
            "layout": "IPY_MODEL_f3a3ae1357bc49b99de2fad5c77590bf",
            "placeholder": "​",
            "style": "IPY_MODEL_5e124e06ce7b4505985b210c3d73b5bc",
            "value": "tokenizer_config.json: 100%"
          }
        },
        "423d92f46e8d47f7b89184a85076d493": {
          "model_module": "@jupyter-widgets/controls",
          "model_name": "FloatProgressModel",
          "model_module_version": "1.5.0",
          "state": {
            "_dom_classes": [],
            "_model_module": "@jupyter-widgets/controls",
            "_model_module_version": "1.5.0",
            "_model_name": "FloatProgressModel",
            "_view_count": null,
            "_view_module": "@jupyter-widgets/controls",
            "_view_module_version": "1.5.0",
            "_view_name": "ProgressView",
            "bar_style": "success",
            "description": "",
            "description_tooltip": null,
            "layout": "IPY_MODEL_de2075720db24329b691f732d233e7bd",
            "max": 25,
            "min": 0,
            "orientation": "horizontal",
            "style": "IPY_MODEL_e6a8d425be254ffc84c581c6d8b02a11",
            "value": 25
          }
        },
        "ead3514e7a8c4de39404296f69cfc3f3": {
          "model_module": "@jupyter-widgets/controls",
          "model_name": "HTMLModel",
          "model_module_version": "1.5.0",
          "state": {
            "_dom_classes": [],
            "_model_module": "@jupyter-widgets/controls",
            "_model_module_version": "1.5.0",
            "_model_name": "HTMLModel",
            "_view_count": null,
            "_view_module": "@jupyter-widgets/controls",
            "_view_module_version": "1.5.0",
            "_view_name": "HTMLView",
            "description": "",
            "description_tooltip": null,
            "layout": "IPY_MODEL_eafd59e9e7b942619b0f039a121cff8b",
            "placeholder": "​",
            "style": "IPY_MODEL_71bf66c708ee4c92a1d328e7fc26344a",
            "value": " 25.0/25.0 [00:00&lt;00:00, 494B/s]"
          }
        },
        "9e9442ef10724ff5ad0c56b00bcdc5bc": {
          "model_module": "@jupyter-widgets/base",
          "model_name": "LayoutModel",
          "model_module_version": "1.2.0",
          "state": {
            "_model_module": "@jupyter-widgets/base",
            "_model_module_version": "1.2.0",
            "_model_name": "LayoutModel",
            "_view_count": null,
            "_view_module": "@jupyter-widgets/base",
            "_view_module_version": "1.2.0",
            "_view_name": "LayoutView",
            "align_content": null,
            "align_items": null,
            "align_self": null,
            "border": null,
            "bottom": null,
            "display": null,
            "flex": null,
            "flex_flow": null,
            "grid_area": null,
            "grid_auto_columns": null,
            "grid_auto_flow": null,
            "grid_auto_rows": null,
            "grid_column": null,
            "grid_gap": null,
            "grid_row": null,
            "grid_template_areas": null,
            "grid_template_columns": null,
            "grid_template_rows": null,
            "height": null,
            "justify_content": null,
            "justify_items": null,
            "left": null,
            "margin": null,
            "max_height": null,
            "max_width": null,
            "min_height": null,
            "min_width": null,
            "object_fit": null,
            "object_position": null,
            "order": null,
            "overflow": null,
            "overflow_x": null,
            "overflow_y": null,
            "padding": null,
            "right": null,
            "top": null,
            "visibility": null,
            "width": null
          }
        },
        "f3a3ae1357bc49b99de2fad5c77590bf": {
          "model_module": "@jupyter-widgets/base",
          "model_name": "LayoutModel",
          "model_module_version": "1.2.0",
          "state": {
            "_model_module": "@jupyter-widgets/base",
            "_model_module_version": "1.2.0",
            "_model_name": "LayoutModel",
            "_view_count": null,
            "_view_module": "@jupyter-widgets/base",
            "_view_module_version": "1.2.0",
            "_view_name": "LayoutView",
            "align_content": null,
            "align_items": null,
            "align_self": null,
            "border": null,
            "bottom": null,
            "display": null,
            "flex": null,
            "flex_flow": null,
            "grid_area": null,
            "grid_auto_columns": null,
            "grid_auto_flow": null,
            "grid_auto_rows": null,
            "grid_column": null,
            "grid_gap": null,
            "grid_row": null,
            "grid_template_areas": null,
            "grid_template_columns": null,
            "grid_template_rows": null,
            "height": null,
            "justify_content": null,
            "justify_items": null,
            "left": null,
            "margin": null,
            "max_height": null,
            "max_width": null,
            "min_height": null,
            "min_width": null,
            "object_fit": null,
            "object_position": null,
            "order": null,
            "overflow": null,
            "overflow_x": null,
            "overflow_y": null,
            "padding": null,
            "right": null,
            "top": null,
            "visibility": null,
            "width": null
          }
        },
        "5e124e06ce7b4505985b210c3d73b5bc": {
          "model_module": "@jupyter-widgets/controls",
          "model_name": "DescriptionStyleModel",
          "model_module_version": "1.5.0",
          "state": {
            "_model_module": "@jupyter-widgets/controls",
            "_model_module_version": "1.5.0",
            "_model_name": "DescriptionStyleModel",
            "_view_count": null,
            "_view_module": "@jupyter-widgets/base",
            "_view_module_version": "1.2.0",
            "_view_name": "StyleView",
            "description_width": ""
          }
        },
        "de2075720db24329b691f732d233e7bd": {
          "model_module": "@jupyter-widgets/base",
          "model_name": "LayoutModel",
          "model_module_version": "1.2.0",
          "state": {
            "_model_module": "@jupyter-widgets/base",
            "_model_module_version": "1.2.0",
            "_model_name": "LayoutModel",
            "_view_count": null,
            "_view_module": "@jupyter-widgets/base",
            "_view_module_version": "1.2.0",
            "_view_name": "LayoutView",
            "align_content": null,
            "align_items": null,
            "align_self": null,
            "border": null,
            "bottom": null,
            "display": null,
            "flex": null,
            "flex_flow": null,
            "grid_area": null,
            "grid_auto_columns": null,
            "grid_auto_flow": null,
            "grid_auto_rows": null,
            "grid_column": null,
            "grid_gap": null,
            "grid_row": null,
            "grid_template_areas": null,
            "grid_template_columns": null,
            "grid_template_rows": null,
            "height": null,
            "justify_content": null,
            "justify_items": null,
            "left": null,
            "margin": null,
            "max_height": null,
            "max_width": null,
            "min_height": null,
            "min_width": null,
            "object_fit": null,
            "object_position": null,
            "order": null,
            "overflow": null,
            "overflow_x": null,
            "overflow_y": null,
            "padding": null,
            "right": null,
            "top": null,
            "visibility": null,
            "width": null
          }
        },
        "e6a8d425be254ffc84c581c6d8b02a11": {
          "model_module": "@jupyter-widgets/controls",
          "model_name": "ProgressStyleModel",
          "model_module_version": "1.5.0",
          "state": {
            "_model_module": "@jupyter-widgets/controls",
            "_model_module_version": "1.5.0",
            "_model_name": "ProgressStyleModel",
            "_view_count": null,
            "_view_module": "@jupyter-widgets/base",
            "_view_module_version": "1.2.0",
            "_view_name": "StyleView",
            "bar_color": null,
            "description_width": ""
          }
        },
        "eafd59e9e7b942619b0f039a121cff8b": {
          "model_module": "@jupyter-widgets/base",
          "model_name": "LayoutModel",
          "model_module_version": "1.2.0",
          "state": {
            "_model_module": "@jupyter-widgets/base",
            "_model_module_version": "1.2.0",
            "_model_name": "LayoutModel",
            "_view_count": null,
            "_view_module": "@jupyter-widgets/base",
            "_view_module_version": "1.2.0",
            "_view_name": "LayoutView",
            "align_content": null,
            "align_items": null,
            "align_self": null,
            "border": null,
            "bottom": null,
            "display": null,
            "flex": null,
            "flex_flow": null,
            "grid_area": null,
            "grid_auto_columns": null,
            "grid_auto_flow": null,
            "grid_auto_rows": null,
            "grid_column": null,
            "grid_gap": null,
            "grid_row": null,
            "grid_template_areas": null,
            "grid_template_columns": null,
            "grid_template_rows": null,
            "height": null,
            "justify_content": null,
            "justify_items": null,
            "left": null,
            "margin": null,
            "max_height": null,
            "max_width": null,
            "min_height": null,
            "min_width": null,
            "object_fit": null,
            "object_position": null,
            "order": null,
            "overflow": null,
            "overflow_x": null,
            "overflow_y": null,
            "padding": null,
            "right": null,
            "top": null,
            "visibility": null,
            "width": null
          }
        },
        "71bf66c708ee4c92a1d328e7fc26344a": {
          "model_module": "@jupyter-widgets/controls",
          "model_name": "DescriptionStyleModel",
          "model_module_version": "1.5.0",
          "state": {
            "_model_module": "@jupyter-widgets/controls",
            "_model_module_version": "1.5.0",
            "_model_name": "DescriptionStyleModel",
            "_view_count": null,
            "_view_module": "@jupyter-widgets/base",
            "_view_module_version": "1.2.0",
            "_view_name": "StyleView",
            "description_width": ""
          }
        },
        "229596c9b23843f3acee559d9fa1793b": {
          "model_module": "@jupyter-widgets/controls",
          "model_name": "HBoxModel",
          "model_module_version": "1.5.0",
          "state": {
            "_dom_classes": [],
            "_model_module": "@jupyter-widgets/controls",
            "_model_module_version": "1.5.0",
            "_model_name": "HBoxModel",
            "_view_count": null,
            "_view_module": "@jupyter-widgets/controls",
            "_view_module_version": "1.5.0",
            "_view_name": "HBoxView",
            "box_style": "",
            "children": [
              "IPY_MODEL_f17dca8904a44e61b8d2370d71bedc94",
              "IPY_MODEL_10f2c28cd50c4f6e98106e2144a64d86",
              "IPY_MODEL_2bee740061a44616ab662ad2b185649b"
            ],
            "layout": "IPY_MODEL_0d7eba9b764245dab5020b205ae05861"
          }
        },
        "f17dca8904a44e61b8d2370d71bedc94": {
          "model_module": "@jupyter-widgets/controls",
          "model_name": "HTMLModel",
          "model_module_version": "1.5.0",
          "state": {
            "_dom_classes": [],
            "_model_module": "@jupyter-widgets/controls",
            "_model_module_version": "1.5.0",
            "_model_name": "HTMLModel",
            "_view_count": null,
            "_view_module": "@jupyter-widgets/controls",
            "_view_module_version": "1.5.0",
            "_view_name": "HTMLView",
            "description": "",
            "description_tooltip": null,
            "layout": "IPY_MODEL_a05e3682c216466784e475a449b9299a",
            "placeholder": "​",
            "style": "IPY_MODEL_341b63798eef4c63b96ae3e97f77a5be",
            "value": "sentencepiece.bpe.model: 100%"
          }
        },
        "10f2c28cd50c4f6e98106e2144a64d86": {
          "model_module": "@jupyter-widgets/controls",
          "model_name": "FloatProgressModel",
          "model_module_version": "1.5.0",
          "state": {
            "_dom_classes": [],
            "_model_module": "@jupyter-widgets/controls",
            "_model_module_version": "1.5.0",
            "_model_name": "FloatProgressModel",
            "_view_count": null,
            "_view_module": "@jupyter-widgets/controls",
            "_view_module_version": "1.5.0",
            "_view_name": "ProgressView",
            "bar_style": "success",
            "description": "",
            "description_tooltip": null,
            "layout": "IPY_MODEL_01ef85b00ec84e1f9b5f8e345c127f1a",
            "max": 810912,
            "min": 0,
            "orientation": "horizontal",
            "style": "IPY_MODEL_77639dfacce74760abaf24e5054f4bba",
            "value": 810912
          }
        },
        "2bee740061a44616ab662ad2b185649b": {
          "model_module": "@jupyter-widgets/controls",
          "model_name": "HTMLModel",
          "model_module_version": "1.5.0",
          "state": {
            "_dom_classes": [],
            "_model_module": "@jupyter-widgets/controls",
            "_model_module_version": "1.5.0",
            "_model_name": "HTMLModel",
            "_view_count": null,
            "_view_module": "@jupyter-widgets/controls",
            "_view_module_version": "1.5.0",
            "_view_name": "HTMLView",
            "description": "",
            "description_tooltip": null,
            "layout": "IPY_MODEL_f926f694e7f64e80a3146bc6208f1db7",
            "placeholder": "​",
            "style": "IPY_MODEL_4665b656a5ee4b88bc72fd6e73975ef8",
            "value": " 811k/811k [00:00&lt;00:00, 9.20MB/s]"
          }
        },
        "0d7eba9b764245dab5020b205ae05861": {
          "model_module": "@jupyter-widgets/base",
          "model_name": "LayoutModel",
          "model_module_version": "1.2.0",
          "state": {
            "_model_module": "@jupyter-widgets/base",
            "_model_module_version": "1.2.0",
            "_model_name": "LayoutModel",
            "_view_count": null,
            "_view_module": "@jupyter-widgets/base",
            "_view_module_version": "1.2.0",
            "_view_name": "LayoutView",
            "align_content": null,
            "align_items": null,
            "align_self": null,
            "border": null,
            "bottom": null,
            "display": null,
            "flex": null,
            "flex_flow": null,
            "grid_area": null,
            "grid_auto_columns": null,
            "grid_auto_flow": null,
            "grid_auto_rows": null,
            "grid_column": null,
            "grid_gap": null,
            "grid_row": null,
            "grid_template_areas": null,
            "grid_template_columns": null,
            "grid_template_rows": null,
            "height": null,
            "justify_content": null,
            "justify_items": null,
            "left": null,
            "margin": null,
            "max_height": null,
            "max_width": null,
            "min_height": null,
            "min_width": null,
            "object_fit": null,
            "object_position": null,
            "order": null,
            "overflow": null,
            "overflow_x": null,
            "overflow_y": null,
            "padding": null,
            "right": null,
            "top": null,
            "visibility": null,
            "width": null
          }
        },
        "a05e3682c216466784e475a449b9299a": {
          "model_module": "@jupyter-widgets/base",
          "model_name": "LayoutModel",
          "model_module_version": "1.2.0",
          "state": {
            "_model_module": "@jupyter-widgets/base",
            "_model_module_version": "1.2.0",
            "_model_name": "LayoutModel",
            "_view_count": null,
            "_view_module": "@jupyter-widgets/base",
            "_view_module_version": "1.2.0",
            "_view_name": "LayoutView",
            "align_content": null,
            "align_items": null,
            "align_self": null,
            "border": null,
            "bottom": null,
            "display": null,
            "flex": null,
            "flex_flow": null,
            "grid_area": null,
            "grid_auto_columns": null,
            "grid_auto_flow": null,
            "grid_auto_rows": null,
            "grid_column": null,
            "grid_gap": null,
            "grid_row": null,
            "grid_template_areas": null,
            "grid_template_columns": null,
            "grid_template_rows": null,
            "height": null,
            "justify_content": null,
            "justify_items": null,
            "left": null,
            "margin": null,
            "max_height": null,
            "max_width": null,
            "min_height": null,
            "min_width": null,
            "object_fit": null,
            "object_position": null,
            "order": null,
            "overflow": null,
            "overflow_x": null,
            "overflow_y": null,
            "padding": null,
            "right": null,
            "top": null,
            "visibility": null,
            "width": null
          }
        },
        "341b63798eef4c63b96ae3e97f77a5be": {
          "model_module": "@jupyter-widgets/controls",
          "model_name": "DescriptionStyleModel",
          "model_module_version": "1.5.0",
          "state": {
            "_model_module": "@jupyter-widgets/controls",
            "_model_module_version": "1.5.0",
            "_model_name": "DescriptionStyleModel",
            "_view_count": null,
            "_view_module": "@jupyter-widgets/base",
            "_view_module_version": "1.2.0",
            "_view_name": "StyleView",
            "description_width": ""
          }
        },
        "01ef85b00ec84e1f9b5f8e345c127f1a": {
          "model_module": "@jupyter-widgets/base",
          "model_name": "LayoutModel",
          "model_module_version": "1.2.0",
          "state": {
            "_model_module": "@jupyter-widgets/base",
            "_model_module_version": "1.2.0",
            "_model_name": "LayoutModel",
            "_view_count": null,
            "_view_module": "@jupyter-widgets/base",
            "_view_module_version": "1.2.0",
            "_view_name": "LayoutView",
            "align_content": null,
            "align_items": null,
            "align_self": null,
            "border": null,
            "bottom": null,
            "display": null,
            "flex": null,
            "flex_flow": null,
            "grid_area": null,
            "grid_auto_columns": null,
            "grid_auto_flow": null,
            "grid_auto_rows": null,
            "grid_column": null,
            "grid_gap": null,
            "grid_row": null,
            "grid_template_areas": null,
            "grid_template_columns": null,
            "grid_template_rows": null,
            "height": null,
            "justify_content": null,
            "justify_items": null,
            "left": null,
            "margin": null,
            "max_height": null,
            "max_width": null,
            "min_height": null,
            "min_width": null,
            "object_fit": null,
            "object_position": null,
            "order": null,
            "overflow": null,
            "overflow_x": null,
            "overflow_y": null,
            "padding": null,
            "right": null,
            "top": null,
            "visibility": null,
            "width": null
          }
        },
        "77639dfacce74760abaf24e5054f4bba": {
          "model_module": "@jupyter-widgets/controls",
          "model_name": "ProgressStyleModel",
          "model_module_version": "1.5.0",
          "state": {
            "_model_module": "@jupyter-widgets/controls",
            "_model_module_version": "1.5.0",
            "_model_name": "ProgressStyleModel",
            "_view_count": null,
            "_view_module": "@jupyter-widgets/base",
            "_view_module_version": "1.2.0",
            "_view_name": "StyleView",
            "bar_color": null,
            "description_width": ""
          }
        },
        "f926f694e7f64e80a3146bc6208f1db7": {
          "model_module": "@jupyter-widgets/base",
          "model_name": "LayoutModel",
          "model_module_version": "1.2.0",
          "state": {
            "_model_module": "@jupyter-widgets/base",
            "_model_module_version": "1.2.0",
            "_model_name": "LayoutModel",
            "_view_count": null,
            "_view_module": "@jupyter-widgets/base",
            "_view_module_version": "1.2.0",
            "_view_name": "LayoutView",
            "align_content": null,
            "align_items": null,
            "align_self": null,
            "border": null,
            "bottom": null,
            "display": null,
            "flex": null,
            "flex_flow": null,
            "grid_area": null,
            "grid_auto_columns": null,
            "grid_auto_flow": null,
            "grid_auto_rows": null,
            "grid_column": null,
            "grid_gap": null,
            "grid_row": null,
            "grid_template_areas": null,
            "grid_template_columns": null,
            "grid_template_rows": null,
            "height": null,
            "justify_content": null,
            "justify_items": null,
            "left": null,
            "margin": null,
            "max_height": null,
            "max_width": null,
            "min_height": null,
            "min_width": null,
            "object_fit": null,
            "object_position": null,
            "order": null,
            "overflow": null,
            "overflow_x": null,
            "overflow_y": null,
            "padding": null,
            "right": null,
            "top": null,
            "visibility": null,
            "width": null
          }
        },
        "4665b656a5ee4b88bc72fd6e73975ef8": {
          "model_module": "@jupyter-widgets/controls",
          "model_name": "DescriptionStyleModel",
          "model_module_version": "1.5.0",
          "state": {
            "_model_module": "@jupyter-widgets/controls",
            "_model_module_version": "1.5.0",
            "_model_name": "DescriptionStyleModel",
            "_view_count": null,
            "_view_module": "@jupyter-widgets/base",
            "_view_module_version": "1.2.0",
            "_view_name": "StyleView",
            "description_width": ""
          }
        },
        "438890e170914a8f9f0ac4ba6490d32e": {
          "model_module": "@jupyter-widgets/controls",
          "model_name": "HBoxModel",
          "model_module_version": "1.5.0",
          "state": {
            "_dom_classes": [],
            "_model_module": "@jupyter-widgets/controls",
            "_model_module_version": "1.5.0",
            "_model_name": "HBoxModel",
            "_view_count": null,
            "_view_module": "@jupyter-widgets/controls",
            "_view_module_version": "1.5.0",
            "_view_name": "HBoxView",
            "box_style": "",
            "children": [
              "IPY_MODEL_2638e48053364e199f99bc39ef0bc91b",
              "IPY_MODEL_31cd5ffce0a148209848b81d60a73b52",
              "IPY_MODEL_7469880b72d343ff9b534ec05bf1680a"
            ],
            "layout": "IPY_MODEL_336d8d2530ed46d18b187c8f468e90e5"
          }
        },
        "2638e48053364e199f99bc39ef0bc91b": {
          "model_module": "@jupyter-widgets/controls",
          "model_name": "HTMLModel",
          "model_module_version": "1.5.0",
          "state": {
            "_dom_classes": [],
            "_model_module": "@jupyter-widgets/controls",
            "_model_module_version": "1.5.0",
            "_model_name": "HTMLModel",
            "_view_count": null,
            "_view_module": "@jupyter-widgets/controls",
            "_view_module_version": "1.5.0",
            "_view_name": "HTMLView",
            "description": "",
            "description_tooltip": null,
            "layout": "IPY_MODEL_9d789453953f436780a8637a000e21e2",
            "placeholder": "​",
            "style": "IPY_MODEL_8f200fdbfc8247d2874ab538200d810c",
            "value": "tokenizer.json: 100%"
          }
        },
        "31cd5ffce0a148209848b81d60a73b52": {
          "model_module": "@jupyter-widgets/controls",
          "model_name": "FloatProgressModel",
          "model_module_version": "1.5.0",
          "state": {
            "_dom_classes": [],
            "_model_module": "@jupyter-widgets/controls",
            "_model_module_version": "1.5.0",
            "_model_name": "FloatProgressModel",
            "_view_count": null,
            "_view_module": "@jupyter-widgets/controls",
            "_view_module_version": "1.5.0",
            "_view_name": "ProgressView",
            "bar_style": "success",
            "description": "",
            "description_tooltip": null,
            "layout": "IPY_MODEL_8df428e405dd4762aab91413aacebcd0",
            "max": 1395301,
            "min": 0,
            "orientation": "horizontal",
            "style": "IPY_MODEL_4c3c2114c3e248f1a699b873b4d967b2",
            "value": 1395301
          }
        },
        "7469880b72d343ff9b534ec05bf1680a": {
          "model_module": "@jupyter-widgets/controls",
          "model_name": "HTMLModel",
          "model_module_version": "1.5.0",
          "state": {
            "_dom_classes": [],
            "_model_module": "@jupyter-widgets/controls",
            "_model_module_version": "1.5.0",
            "_model_name": "HTMLModel",
            "_view_count": null,
            "_view_module": "@jupyter-widgets/controls",
            "_view_module_version": "1.5.0",
            "_view_name": "HTMLView",
            "description": "",
            "description_tooltip": null,
            "layout": "IPY_MODEL_86f5192707a6458da854fc041a27b31d",
            "placeholder": "​",
            "style": "IPY_MODEL_93c11a7b718241f6b8544047e3507741",
            "value": " 1.40M/1.40M [00:00&lt;00:00, 19.5MB/s]"
          }
        },
        "336d8d2530ed46d18b187c8f468e90e5": {
          "model_module": "@jupyter-widgets/base",
          "model_name": "LayoutModel",
          "model_module_version": "1.2.0",
          "state": {
            "_model_module": "@jupyter-widgets/base",
            "_model_module_version": "1.2.0",
            "_model_name": "LayoutModel",
            "_view_count": null,
            "_view_module": "@jupyter-widgets/base",
            "_view_module_version": "1.2.0",
            "_view_name": "LayoutView",
            "align_content": null,
            "align_items": null,
            "align_self": null,
            "border": null,
            "bottom": null,
            "display": null,
            "flex": null,
            "flex_flow": null,
            "grid_area": null,
            "grid_auto_columns": null,
            "grid_auto_flow": null,
            "grid_auto_rows": null,
            "grid_column": null,
            "grid_gap": null,
            "grid_row": null,
            "grid_template_areas": null,
            "grid_template_columns": null,
            "grid_template_rows": null,
            "height": null,
            "justify_content": null,
            "justify_items": null,
            "left": null,
            "margin": null,
            "max_height": null,
            "max_width": null,
            "min_height": null,
            "min_width": null,
            "object_fit": null,
            "object_position": null,
            "order": null,
            "overflow": null,
            "overflow_x": null,
            "overflow_y": null,
            "padding": null,
            "right": null,
            "top": null,
            "visibility": null,
            "width": null
          }
        },
        "9d789453953f436780a8637a000e21e2": {
          "model_module": "@jupyter-widgets/base",
          "model_name": "LayoutModel",
          "model_module_version": "1.2.0",
          "state": {
            "_model_module": "@jupyter-widgets/base",
            "_model_module_version": "1.2.0",
            "_model_name": "LayoutModel",
            "_view_count": null,
            "_view_module": "@jupyter-widgets/base",
            "_view_module_version": "1.2.0",
            "_view_name": "LayoutView",
            "align_content": null,
            "align_items": null,
            "align_self": null,
            "border": null,
            "bottom": null,
            "display": null,
            "flex": null,
            "flex_flow": null,
            "grid_area": null,
            "grid_auto_columns": null,
            "grid_auto_flow": null,
            "grid_auto_rows": null,
            "grid_column": null,
            "grid_gap": null,
            "grid_row": null,
            "grid_template_areas": null,
            "grid_template_columns": null,
            "grid_template_rows": null,
            "height": null,
            "justify_content": null,
            "justify_items": null,
            "left": null,
            "margin": null,
            "max_height": null,
            "max_width": null,
            "min_height": null,
            "min_width": null,
            "object_fit": null,
            "object_position": null,
            "order": null,
            "overflow": null,
            "overflow_x": null,
            "overflow_y": null,
            "padding": null,
            "right": null,
            "top": null,
            "visibility": null,
            "width": null
          }
        },
        "8f200fdbfc8247d2874ab538200d810c": {
          "model_module": "@jupyter-widgets/controls",
          "model_name": "DescriptionStyleModel",
          "model_module_version": "1.5.0",
          "state": {
            "_model_module": "@jupyter-widgets/controls",
            "_model_module_version": "1.5.0",
            "_model_name": "DescriptionStyleModel",
            "_view_count": null,
            "_view_module": "@jupyter-widgets/base",
            "_view_module_version": "1.2.0",
            "_view_name": "StyleView",
            "description_width": ""
          }
        },
        "8df428e405dd4762aab91413aacebcd0": {
          "model_module": "@jupyter-widgets/base",
          "model_name": "LayoutModel",
          "model_module_version": "1.2.0",
          "state": {
            "_model_module": "@jupyter-widgets/base",
            "_model_module_version": "1.2.0",
            "_model_name": "LayoutModel",
            "_view_count": null,
            "_view_module": "@jupyter-widgets/base",
            "_view_module_version": "1.2.0",
            "_view_name": "LayoutView",
            "align_content": null,
            "align_items": null,
            "align_self": null,
            "border": null,
            "bottom": null,
            "display": null,
            "flex": null,
            "flex_flow": null,
            "grid_area": null,
            "grid_auto_columns": null,
            "grid_auto_flow": null,
            "grid_auto_rows": null,
            "grid_column": null,
            "grid_gap": null,
            "grid_row": null,
            "grid_template_areas": null,
            "grid_template_columns": null,
            "grid_template_rows": null,
            "height": null,
            "justify_content": null,
            "justify_items": null,
            "left": null,
            "margin": null,
            "max_height": null,
            "max_width": null,
            "min_height": null,
            "min_width": null,
            "object_fit": null,
            "object_position": null,
            "order": null,
            "overflow": null,
            "overflow_x": null,
            "overflow_y": null,
            "padding": null,
            "right": null,
            "top": null,
            "visibility": null,
            "width": null
          }
        },
        "4c3c2114c3e248f1a699b873b4d967b2": {
          "model_module": "@jupyter-widgets/controls",
          "model_name": "ProgressStyleModel",
          "model_module_version": "1.5.0",
          "state": {
            "_model_module": "@jupyter-widgets/controls",
            "_model_module_version": "1.5.0",
            "_model_name": "ProgressStyleModel",
            "_view_count": null,
            "_view_module": "@jupyter-widgets/base",
            "_view_module_version": "1.2.0",
            "_view_name": "StyleView",
            "bar_color": null,
            "description_width": ""
          }
        },
        "86f5192707a6458da854fc041a27b31d": {
          "model_module": "@jupyter-widgets/base",
          "model_name": "LayoutModel",
          "model_module_version": "1.2.0",
          "state": {
            "_model_module": "@jupyter-widgets/base",
            "_model_module_version": "1.2.0",
            "_model_name": "LayoutModel",
            "_view_count": null,
            "_view_module": "@jupyter-widgets/base",
            "_view_module_version": "1.2.0",
            "_view_name": "LayoutView",
            "align_content": null,
            "align_items": null,
            "align_self": null,
            "border": null,
            "bottom": null,
            "display": null,
            "flex": null,
            "flex_flow": null,
            "grid_area": null,
            "grid_auto_columns": null,
            "grid_auto_flow": null,
            "grid_auto_rows": null,
            "grid_column": null,
            "grid_gap": null,
            "grid_row": null,
            "grid_template_areas": null,
            "grid_template_columns": null,
            "grid_template_rows": null,
            "height": null,
            "justify_content": null,
            "justify_items": null,
            "left": null,
            "margin": null,
            "max_height": null,
            "max_width": null,
            "min_height": null,
            "min_width": null,
            "object_fit": null,
            "object_position": null,
            "order": null,
            "overflow": null,
            "overflow_x": null,
            "overflow_y": null,
            "padding": null,
            "right": null,
            "top": null,
            "visibility": null,
            "width": null
          }
        },
        "93c11a7b718241f6b8544047e3507741": {
          "model_module": "@jupyter-widgets/controls",
          "model_name": "DescriptionStyleModel",
          "model_module_version": "1.5.0",
          "state": {
            "_model_module": "@jupyter-widgets/controls",
            "_model_module_version": "1.5.0",
            "_model_name": "DescriptionStyleModel",
            "_view_count": null,
            "_view_module": "@jupyter-widgets/base",
            "_view_module_version": "1.2.0",
            "_view_name": "StyleView",
            "description_width": ""
          }
        },
        "c1c47295bf0642da934b9c1cc9e68a9d": {
          "model_module": "@jupyter-widgets/controls",
          "model_name": "HBoxModel",
          "model_module_version": "1.5.0",
          "state": {
            "_dom_classes": [],
            "_model_module": "@jupyter-widgets/controls",
            "_model_module_version": "1.5.0",
            "_model_name": "HBoxModel",
            "_view_count": null,
            "_view_module": "@jupyter-widgets/controls",
            "_view_module_version": "1.5.0",
            "_view_name": "HBoxView",
            "box_style": "",
            "children": [
              "IPY_MODEL_0924b4bdb81a442b9839897dc638bca0",
              "IPY_MODEL_88d8e7d7320c44fda4402b18709d08f6",
              "IPY_MODEL_e6711a046fb046f29e6e86996d14334d"
            ],
            "layout": "IPY_MODEL_b38f146228a141d5a602b756ff86e885"
          }
        },
        "0924b4bdb81a442b9839897dc638bca0": {
          "model_module": "@jupyter-widgets/controls",
          "model_name": "HTMLModel",
          "model_module_version": "1.5.0",
          "state": {
            "_dom_classes": [],
            "_model_module": "@jupyter-widgets/controls",
            "_model_module_version": "1.5.0",
            "_model_name": "HTMLModel",
            "_view_count": null,
            "_view_module": "@jupyter-widgets/controls",
            "_view_module_version": "1.5.0",
            "_view_name": "HTMLView",
            "description": "",
            "description_tooltip": null,
            "layout": "IPY_MODEL_1b1b1ee24d2e45b7b1687b2c06d685db",
            "placeholder": "​",
            "style": "IPY_MODEL_7f6e69d9c8c0499699d1fee3836cbfaf",
            "value": "config.json: 100%"
          }
        },
        "88d8e7d7320c44fda4402b18709d08f6": {
          "model_module": "@jupyter-widgets/controls",
          "model_name": "FloatProgressModel",
          "model_module_version": "1.5.0",
          "state": {
            "_dom_classes": [],
            "_model_module": "@jupyter-widgets/controls",
            "_model_module_version": "1.5.0",
            "_model_name": "FloatProgressModel",
            "_view_count": null,
            "_view_module": "@jupyter-widgets/controls",
            "_view_module_version": "1.5.0",
            "_view_name": "ProgressView",
            "bar_style": "success",
            "description": "",
            "description_tooltip": null,
            "layout": "IPY_MODEL_52fe2619b173487793da3675d24921ed",
            "max": 508,
            "min": 0,
            "orientation": "horizontal",
            "style": "IPY_MODEL_b17a0d62e39843fe8f4b54d7b825ee3a",
            "value": 508
          }
        },
        "e6711a046fb046f29e6e86996d14334d": {
          "model_module": "@jupyter-widgets/controls",
          "model_name": "HTMLModel",
          "model_module_version": "1.5.0",
          "state": {
            "_dom_classes": [],
            "_model_module": "@jupyter-widgets/controls",
            "_model_module_version": "1.5.0",
            "_model_name": "HTMLModel",
            "_view_count": null,
            "_view_module": "@jupyter-widgets/controls",
            "_view_module_version": "1.5.0",
            "_view_name": "HTMLView",
            "description": "",
            "description_tooltip": null,
            "layout": "IPY_MODEL_a90b7d6087fb4d858001615e8a9c70b7",
            "placeholder": "​",
            "style": "IPY_MODEL_d6beb39e99a04d16bf93604e06bc42d6",
            "value": " 508/508 [00:00&lt;00:00, 6.06kB/s]"
          }
        },
        "b38f146228a141d5a602b756ff86e885": {
          "model_module": "@jupyter-widgets/base",
          "model_name": "LayoutModel",
          "model_module_version": "1.2.0",
          "state": {
            "_model_module": "@jupyter-widgets/base",
            "_model_module_version": "1.2.0",
            "_model_name": "LayoutModel",
            "_view_count": null,
            "_view_module": "@jupyter-widgets/base",
            "_view_module_version": "1.2.0",
            "_view_name": "LayoutView",
            "align_content": null,
            "align_items": null,
            "align_self": null,
            "border": null,
            "bottom": null,
            "display": null,
            "flex": null,
            "flex_flow": null,
            "grid_area": null,
            "grid_auto_columns": null,
            "grid_auto_flow": null,
            "grid_auto_rows": null,
            "grid_column": null,
            "grid_gap": null,
            "grid_row": null,
            "grid_template_areas": null,
            "grid_template_columns": null,
            "grid_template_rows": null,
            "height": null,
            "justify_content": null,
            "justify_items": null,
            "left": null,
            "margin": null,
            "max_height": null,
            "max_width": null,
            "min_height": null,
            "min_width": null,
            "object_fit": null,
            "object_position": null,
            "order": null,
            "overflow": null,
            "overflow_x": null,
            "overflow_y": null,
            "padding": null,
            "right": null,
            "top": null,
            "visibility": null,
            "width": null
          }
        },
        "1b1b1ee24d2e45b7b1687b2c06d685db": {
          "model_module": "@jupyter-widgets/base",
          "model_name": "LayoutModel",
          "model_module_version": "1.2.0",
          "state": {
            "_model_module": "@jupyter-widgets/base",
            "_model_module_version": "1.2.0",
            "_model_name": "LayoutModel",
            "_view_count": null,
            "_view_module": "@jupyter-widgets/base",
            "_view_module_version": "1.2.0",
            "_view_name": "LayoutView",
            "align_content": null,
            "align_items": null,
            "align_self": null,
            "border": null,
            "bottom": null,
            "display": null,
            "flex": null,
            "flex_flow": null,
            "grid_area": null,
            "grid_auto_columns": null,
            "grid_auto_flow": null,
            "grid_auto_rows": null,
            "grid_column": null,
            "grid_gap": null,
            "grid_row": null,
            "grid_template_areas": null,
            "grid_template_columns": null,
            "grid_template_rows": null,
            "height": null,
            "justify_content": null,
            "justify_items": null,
            "left": null,
            "margin": null,
            "max_height": null,
            "max_width": null,
            "min_height": null,
            "min_width": null,
            "object_fit": null,
            "object_position": null,
            "order": null,
            "overflow": null,
            "overflow_x": null,
            "overflow_y": null,
            "padding": null,
            "right": null,
            "top": null,
            "visibility": null,
            "width": null
          }
        },
        "7f6e69d9c8c0499699d1fee3836cbfaf": {
          "model_module": "@jupyter-widgets/controls",
          "model_name": "DescriptionStyleModel",
          "model_module_version": "1.5.0",
          "state": {
            "_model_module": "@jupyter-widgets/controls",
            "_model_module_version": "1.5.0",
            "_model_name": "DescriptionStyleModel",
            "_view_count": null,
            "_view_module": "@jupyter-widgets/base",
            "_view_module_version": "1.2.0",
            "_view_name": "StyleView",
            "description_width": ""
          }
        },
        "52fe2619b173487793da3675d24921ed": {
          "model_module": "@jupyter-widgets/base",
          "model_name": "LayoutModel",
          "model_module_version": "1.2.0",
          "state": {
            "_model_module": "@jupyter-widgets/base",
            "_model_module_version": "1.2.0",
            "_model_name": "LayoutModel",
            "_view_count": null,
            "_view_module": "@jupyter-widgets/base",
            "_view_module_version": "1.2.0",
            "_view_name": "LayoutView",
            "align_content": null,
            "align_items": null,
            "align_self": null,
            "border": null,
            "bottom": null,
            "display": null,
            "flex": null,
            "flex_flow": null,
            "grid_area": null,
            "grid_auto_columns": null,
            "grid_auto_flow": null,
            "grid_auto_rows": null,
            "grid_column": null,
            "grid_gap": null,
            "grid_row": null,
            "grid_template_areas": null,
            "grid_template_columns": null,
            "grid_template_rows": null,
            "height": null,
            "justify_content": null,
            "justify_items": null,
            "left": null,
            "margin": null,
            "max_height": null,
            "max_width": null,
            "min_height": null,
            "min_width": null,
            "object_fit": null,
            "object_position": null,
            "order": null,
            "overflow": null,
            "overflow_x": null,
            "overflow_y": null,
            "padding": null,
            "right": null,
            "top": null,
            "visibility": null,
            "width": null
          }
        },
        "b17a0d62e39843fe8f4b54d7b825ee3a": {
          "model_module": "@jupyter-widgets/controls",
          "model_name": "ProgressStyleModel",
          "model_module_version": "1.5.0",
          "state": {
            "_model_module": "@jupyter-widgets/controls",
            "_model_module_version": "1.5.0",
            "_model_name": "ProgressStyleModel",
            "_view_count": null,
            "_view_module": "@jupyter-widgets/base",
            "_view_module_version": "1.2.0",
            "_view_name": "StyleView",
            "bar_color": null,
            "description_width": ""
          }
        },
        "a90b7d6087fb4d858001615e8a9c70b7": {
          "model_module": "@jupyter-widgets/base",
          "model_name": "LayoutModel",
          "model_module_version": "1.2.0",
          "state": {
            "_model_module": "@jupyter-widgets/base",
            "_model_module_version": "1.2.0",
            "_model_name": "LayoutModel",
            "_view_count": null,
            "_view_module": "@jupyter-widgets/base",
            "_view_module_version": "1.2.0",
            "_view_name": "LayoutView",
            "align_content": null,
            "align_items": null,
            "align_self": null,
            "border": null,
            "bottom": null,
            "display": null,
            "flex": null,
            "flex_flow": null,
            "grid_area": null,
            "grid_auto_columns": null,
            "grid_auto_flow": null,
            "grid_auto_rows": null,
            "grid_column": null,
            "grid_gap": null,
            "grid_row": null,
            "grid_template_areas": null,
            "grid_template_columns": null,
            "grid_template_rows": null,
            "height": null,
            "justify_content": null,
            "justify_items": null,
            "left": null,
            "margin": null,
            "max_height": null,
            "max_width": null,
            "min_height": null,
            "min_width": null,
            "object_fit": null,
            "object_position": null,
            "order": null,
            "overflow": null,
            "overflow_x": null,
            "overflow_y": null,
            "padding": null,
            "right": null,
            "top": null,
            "visibility": null,
            "width": null
          }
        },
        "d6beb39e99a04d16bf93604e06bc42d6": {
          "model_module": "@jupyter-widgets/controls",
          "model_name": "DescriptionStyleModel",
          "model_module_version": "1.5.0",
          "state": {
            "_model_module": "@jupyter-widgets/controls",
            "_model_module_version": "1.5.0",
            "_model_name": "DescriptionStyleModel",
            "_view_count": null,
            "_view_module": "@jupyter-widgets/base",
            "_view_module_version": "1.2.0",
            "_view_name": "StyleView",
            "description_width": ""
          }
        },
        "43f79a9bd50449d8a30c7ccfa9b9a308": {
          "model_module": "@jupyter-widgets/controls",
          "model_name": "HBoxModel",
          "model_module_version": "1.5.0",
          "state": {
            "_dom_classes": [],
            "_model_module": "@jupyter-widgets/controls",
            "_model_module_version": "1.5.0",
            "_model_name": "HBoxModel",
            "_view_count": null,
            "_view_module": "@jupyter-widgets/controls",
            "_view_module_version": "1.5.0",
            "_view_name": "HBoxView",
            "box_style": "",
            "children": [
              "IPY_MODEL_efc4531a19a84a3984d0603b4642b6e8",
              "IPY_MODEL_771964df474e4bcaa656a9182b9fc4cb",
              "IPY_MODEL_f6eded32675d4bda9af97b2c9a7460f4"
            ],
            "layout": "IPY_MODEL_cde1fe866b9c489e89903bf897adcff1"
          }
        },
        "efc4531a19a84a3984d0603b4642b6e8": {
          "model_module": "@jupyter-widgets/controls",
          "model_name": "HTMLModel",
          "model_module_version": "1.5.0",
          "state": {
            "_dom_classes": [],
            "_model_module": "@jupyter-widgets/controls",
            "_model_module_version": "1.5.0",
            "_model_name": "HTMLModel",
            "_view_count": null,
            "_view_module": "@jupyter-widgets/controls",
            "_view_module_version": "1.5.0",
            "_view_name": "HTMLView",
            "description": "",
            "description_tooltip": null,
            "layout": "IPY_MODEL_82a09259acd64fdd9f0fcffb608b725f",
            "placeholder": "​",
            "style": "IPY_MODEL_c76124002609484cade46dcc66888a93",
            "value": "model.safetensors: 100%"
          }
        },
        "771964df474e4bcaa656a9182b9fc4cb": {
          "model_module": "@jupyter-widgets/controls",
          "model_name": "FloatProgressModel",
          "model_module_version": "1.5.0",
          "state": {
            "_dom_classes": [],
            "_model_module": "@jupyter-widgets/controls",
            "_model_module_version": "1.5.0",
            "_model_name": "FloatProgressModel",
            "_view_count": null,
            "_view_module": "@jupyter-widgets/controls",
            "_view_module_version": "1.5.0",
            "_view_name": "ProgressView",
            "bar_style": "success",
            "description": "",
            "description_tooltip": null,
            "layout": "IPY_MODEL_151ee68052574bec8aae263bcf5a5614",
            "max": 445008750,
            "min": 0,
            "orientation": "horizontal",
            "style": "IPY_MODEL_dabdf6aaf44841ebb3527f3f04cbf41e",
            "value": 445008750
          }
        },
        "f6eded32675d4bda9af97b2c9a7460f4": {
          "model_module": "@jupyter-widgets/controls",
          "model_name": "HTMLModel",
          "model_module_version": "1.5.0",
          "state": {
            "_dom_classes": [],
            "_model_module": "@jupyter-widgets/controls",
            "_model_module_version": "1.5.0",
            "_model_name": "HTMLModel",
            "_view_count": null,
            "_view_module": "@jupyter-widgets/controls",
            "_view_module_version": "1.5.0",
            "_view_name": "HTMLView",
            "description": "",
            "description_tooltip": null,
            "layout": "IPY_MODEL_dff3fd3cad0c44aeb9dfc807da97078f",
            "placeholder": "​",
            "style": "IPY_MODEL_247f6a2542114279af454131535fb4ed",
            "value": " 445M/445M [00:03&lt;00:00, 81.8MB/s]"
          }
        },
        "cde1fe866b9c489e89903bf897adcff1": {
          "model_module": "@jupyter-widgets/base",
          "model_name": "LayoutModel",
          "model_module_version": "1.2.0",
          "state": {
            "_model_module": "@jupyter-widgets/base",
            "_model_module_version": "1.2.0",
            "_model_name": "LayoutModel",
            "_view_count": null,
            "_view_module": "@jupyter-widgets/base",
            "_view_module_version": "1.2.0",
            "_view_name": "LayoutView",
            "align_content": null,
            "align_items": null,
            "align_self": null,
            "border": null,
            "bottom": null,
            "display": null,
            "flex": null,
            "flex_flow": null,
            "grid_area": null,
            "grid_auto_columns": null,
            "grid_auto_flow": null,
            "grid_auto_rows": null,
            "grid_column": null,
            "grid_gap": null,
            "grid_row": null,
            "grid_template_areas": null,
            "grid_template_columns": null,
            "grid_template_rows": null,
            "height": null,
            "justify_content": null,
            "justify_items": null,
            "left": null,
            "margin": null,
            "max_height": null,
            "max_width": null,
            "min_height": null,
            "min_width": null,
            "object_fit": null,
            "object_position": null,
            "order": null,
            "overflow": null,
            "overflow_x": null,
            "overflow_y": null,
            "padding": null,
            "right": null,
            "top": null,
            "visibility": null,
            "width": null
          }
        },
        "82a09259acd64fdd9f0fcffb608b725f": {
          "model_module": "@jupyter-widgets/base",
          "model_name": "LayoutModel",
          "model_module_version": "1.2.0",
          "state": {
            "_model_module": "@jupyter-widgets/base",
            "_model_module_version": "1.2.0",
            "_model_name": "LayoutModel",
            "_view_count": null,
            "_view_module": "@jupyter-widgets/base",
            "_view_module_version": "1.2.0",
            "_view_name": "LayoutView",
            "align_content": null,
            "align_items": null,
            "align_self": null,
            "border": null,
            "bottom": null,
            "display": null,
            "flex": null,
            "flex_flow": null,
            "grid_area": null,
            "grid_auto_columns": null,
            "grid_auto_flow": null,
            "grid_auto_rows": null,
            "grid_column": null,
            "grid_gap": null,
            "grid_row": null,
            "grid_template_areas": null,
            "grid_template_columns": null,
            "grid_template_rows": null,
            "height": null,
            "justify_content": null,
            "justify_items": null,
            "left": null,
            "margin": null,
            "max_height": null,
            "max_width": null,
            "min_height": null,
            "min_width": null,
            "object_fit": null,
            "object_position": null,
            "order": null,
            "overflow": null,
            "overflow_x": null,
            "overflow_y": null,
            "padding": null,
            "right": null,
            "top": null,
            "visibility": null,
            "width": null
          }
        },
        "c76124002609484cade46dcc66888a93": {
          "model_module": "@jupyter-widgets/controls",
          "model_name": "DescriptionStyleModel",
          "model_module_version": "1.5.0",
          "state": {
            "_model_module": "@jupyter-widgets/controls",
            "_model_module_version": "1.5.0",
            "_model_name": "DescriptionStyleModel",
            "_view_count": null,
            "_view_module": "@jupyter-widgets/base",
            "_view_module_version": "1.2.0",
            "_view_name": "StyleView",
            "description_width": ""
          }
        },
        "151ee68052574bec8aae263bcf5a5614": {
          "model_module": "@jupyter-widgets/base",
          "model_name": "LayoutModel",
          "model_module_version": "1.2.0",
          "state": {
            "_model_module": "@jupyter-widgets/base",
            "_model_module_version": "1.2.0",
            "_model_name": "LayoutModel",
            "_view_count": null,
            "_view_module": "@jupyter-widgets/base",
            "_view_module_version": "1.2.0",
            "_view_name": "LayoutView",
            "align_content": null,
            "align_items": null,
            "align_self": null,
            "border": null,
            "bottom": null,
            "display": null,
            "flex": null,
            "flex_flow": null,
            "grid_area": null,
            "grid_auto_columns": null,
            "grid_auto_flow": null,
            "grid_auto_rows": null,
            "grid_column": null,
            "grid_gap": null,
            "grid_row": null,
            "grid_template_areas": null,
            "grid_template_columns": null,
            "grid_template_rows": null,
            "height": null,
            "justify_content": null,
            "justify_items": null,
            "left": null,
            "margin": null,
            "max_height": null,
            "max_width": null,
            "min_height": null,
            "min_width": null,
            "object_fit": null,
            "object_position": null,
            "order": null,
            "overflow": null,
            "overflow_x": null,
            "overflow_y": null,
            "padding": null,
            "right": null,
            "top": null,
            "visibility": null,
            "width": null
          }
        },
        "dabdf6aaf44841ebb3527f3f04cbf41e": {
          "model_module": "@jupyter-widgets/controls",
          "model_name": "ProgressStyleModel",
          "model_module_version": "1.5.0",
          "state": {
            "_model_module": "@jupyter-widgets/controls",
            "_model_module_version": "1.5.0",
            "_model_name": "ProgressStyleModel",
            "_view_count": null,
            "_view_module": "@jupyter-widgets/base",
            "_view_module_version": "1.2.0",
            "_view_name": "StyleView",
            "bar_color": null,
            "description_width": ""
          }
        },
        "dff3fd3cad0c44aeb9dfc807da97078f": {
          "model_module": "@jupyter-widgets/base",
          "model_name": "LayoutModel",
          "model_module_version": "1.2.0",
          "state": {
            "_model_module": "@jupyter-widgets/base",
            "_model_module_version": "1.2.0",
            "_model_name": "LayoutModel",
            "_view_count": null,
            "_view_module": "@jupyter-widgets/base",
            "_view_module_version": "1.2.0",
            "_view_name": "LayoutView",
            "align_content": null,
            "align_items": null,
            "align_self": null,
            "border": null,
            "bottom": null,
            "display": null,
            "flex": null,
            "flex_flow": null,
            "grid_area": null,
            "grid_auto_columns": null,
            "grid_auto_flow": null,
            "grid_auto_rows": null,
            "grid_column": null,
            "grid_gap": null,
            "grid_row": null,
            "grid_template_areas": null,
            "grid_template_columns": null,
            "grid_template_rows": null,
            "height": null,
            "justify_content": null,
            "justify_items": null,
            "left": null,
            "margin": null,
            "max_height": null,
            "max_width": null,
            "min_height": null,
            "min_width": null,
            "object_fit": null,
            "object_position": null,
            "order": null,
            "overflow": null,
            "overflow_x": null,
            "overflow_y": null,
            "padding": null,
            "right": null,
            "top": null,
            "visibility": null,
            "width": null
          }
        },
        "247f6a2542114279af454131535fb4ed": {
          "model_module": "@jupyter-widgets/controls",
          "model_name": "DescriptionStyleModel",
          "model_module_version": "1.5.0",
          "state": {
            "_model_module": "@jupyter-widgets/controls",
            "_model_module_version": "1.5.0",
            "_model_name": "DescriptionStyleModel",
            "_view_count": null,
            "_view_module": "@jupyter-widgets/base",
            "_view_module_version": "1.2.0",
            "_view_name": "StyleView",
            "description_width": ""
          }
        }
      }
    }
  },
  "nbformat": 4,
  "nbformat_minor": 0
}